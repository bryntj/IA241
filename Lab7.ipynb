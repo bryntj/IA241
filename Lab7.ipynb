{
 "cells": [
  {
   "cell_type": "markdown",
   "metadata": {},
   "source": [
    "# Lab 7: Working with Text Files"
   ]
  },
  {
   "cell_type": "markdown",
   "metadata": {},
   "source": [
    "### Question 1:\n",
    "\n",
    "Agency: Central Intelligence Agency (CIA)\n",
    "\n",
    "Description: As a Political Analyst for the CIA, you will support policymakers by producing and delivering written and oral assessments of the domestic politics, foreign policy, stability, and social issues of foreign governments and entities. Your analysis will examine these actors' goals and motivations, culture, values, history, society, decision making processes, and ideologies in the context of how those elements affect US interests and national security.\n",
    "\n",
    "[job website](https://www.cia.gov/careers/opportunities/analytical/political-analyst.html)"
   ]
  },
  {
   "cell_type": "markdown",
   "metadata": {},
   "source": [
    "### Question 2:"
   ]
  },
  {
   "cell_type": "markdown",
   "metadata": {},
   "source": [
    "#### 2.1"
   ]
  },
  {
   "cell_type": "code",
   "execution_count": 1,
   "metadata": {},
   "outputs": [
    {
     "name": "stdout",
     "output_type": "stream",
     "text": [
      "['As', 'a', 'Political', 'Analyst', 'for', 'the', 'CIA,', 'you', 'will', 'support', 'policymakers', 'by', 'producing', 'and', 'delivering', 'written', 'and', 'oral', 'assessments', 'of', 'the', 'domestic', 'politics,', 'foreign', 'policy,', 'stability,', 'and', 'social', 'issues', 'of', 'foreign', 'governments', 'and', 'entities.', 'Your', 'analysis', 'will', 'examine', 'these', \"actors'\", 'goals', 'and', 'motivations,', 'culture,', 'values,', 'history,', 'society,', 'decision', 'making', 'processes,', 'and', 'ideologies', 'in', 'the', 'context', 'of', 'how', 'those', 'elements', 'affect', 'US', 'interests', 'and', 'national', 'security.', 'Opportunities', 'exist', 'for', 'foreign', 'and', 'domestic', 'travel,', 'language', 'training,', 'analytic', 'tradecraft', 'and', 'management', 'training,', 'training', 'to', 'deepen', 'substantive', 'expertise,', 'and', 'assignments', 'to', 'other', 'offices', 'in', 'the', 'Agency', 'and', 'throughout', 'the', 'US', 'Government.', 'Offices', 'of', 'the', 'CIA', '–', 'Directorate', 'of', 'Analysis', 'Within', 'the', 'Directorate', 'of', 'Analysis', '(DA),', 'incomplete', 'and', 'sometimes', 'contradictory', 'information', 'is', 'transformed', 'into', 'unique', 'insights', 'that', 'inform', 'US', 'policy', 'decisions.', 'The', 'DA', 'helps', 'provide', 'timely,', 'accurate', 'and', 'objective', 'all-source', 'intelligence', 'analysis', 'on', 'national', 'security', 'and', 'foreign', 'policy', 'issues', 'to', 'senior', 'policymakers', 'in', 'the', 'US', 'Government.', 'Learn', 'more', 'about', 'the', 'Directorate', 'of', 'Analysis.', 'See', 'our', 'work', 'in', 'action:', 'Life', 'at', 'CIA', 'In', 'addition', 'to', 'a', 'comprehensive', 'benefits', 'package,', 'the', 'CIA', 'offers', 'exciting', 'career', 'opportunities', 'and', 'a', 'dynamic', 'environment.', \"We're\", 'on', 'the', 'forefront', 'of', 'world-altering', 'events', '–', 'as', 'they', 'happen.', 'So', 'working', 'here', \"isn't\", 'just', 'a', 'job,', \"it's\", 'a', 'mindset', 'and', 'a', 'lifestyle.', 'US', 'citizenship', 'required', '(dual-national', 'US', 'citizens', 'eligible).', 'All', 'positions', 'require', 'relocation', 'to', 'the', 'Washington,', 'DC', 'metro', 'area.', 'Minimum', 'Qualifications:', \"Bachelor's\", 'or', \"master's\", 'degree', 'in', 'one', 'of', 'the', 'following', 'fields', 'or', 'related', 'studies:', 'Foreign', 'area', 'studies', 'International', 'Affairs', 'Political', 'Science', 'GPA', 'of', 'at', 'least', '3.0', 'on', 'a', '4-point', 'scale', '(competitive', 'candidates', 'typically', 'have', 'higher', 'GPAs)', 'Strong', 'critical', 'thinking', 'and', 'problem', 'solving', 'skills', 'Desired', 'Qualifications:', 'Deep', 'regional', 'or', 'functional', 'expertise', 'including', 'travel', 'or', 'residency', 'in', 'the', 'region', 'Strong', 'verbal', 'presentation', 'skills', 'Awareness', 'of', 'US', 'national', 'security', 'interests', 'Foreign', 'language', 'capability', 'Proficiency', 'in', 'at', 'least', 'one', 'language', 'pertinent', 'to', 'area', 'expertise', 'Demonstrated', 'ability', 'to', 'write', 'clear,', 'concise', 'text', 'Research', 'experience', 'in', 'international', 'affairs', 'Ability', 'to', 'work', 'in', 'a', 'team', 'environment', 'Interest', 'in', 'a', 'career', 'that', 'requires', 'regular', 'writing', 'assignments', 'All', 'applicants', 'must', 'successfully', 'complete:', 'A', 'thorough', 'medical', 'and', 'psychological', 'exam', 'A', 'polygraph', 'interview', 'A', 'comprehensive', 'background', 'investigation', 'To', 'be', 'considered', 'suitable', 'for', 'Agency', 'employment,', 'applicants', 'must', 'generally', 'not', 'have', 'used', 'illegal', 'drugs', 'within', 'the', 'last', '12', 'months.', 'The', 'issue', 'of', 'illegal', 'drug', 'use', 'prior', 'to', '12', 'months', 'ago', 'is', 'carefully', 'evaluated', 'during', 'the', 'medical', 'and', 'security', 'processing.']\n"
     ]
    }
   ],
   "source": [
    "with open ('job.txt','r') as job:\n",
    "    print(job.read().split())"
   ]
  },
  {
   "cell_type": "markdown",
   "metadata": {},
   "source": [
    "#### 2.2"
   ]
  },
  {
   "cell_type": "code",
   "execution_count": 3,
   "metadata": {},
   "outputs": [
    {
     "name": "stdout",
     "output_type": "stream",
     "text": [
      "and 19\n",
      "the 16\n",
      "of 12\n",
      "in 10\n",
      "a 9\n",
      "to 9\n",
      "US 7\n",
      "foreign 4\n",
      "or 4\n",
      "for 3\n",
      "national 3\n",
      "language 3\n",
      "CIA 3\n",
      "Directorate 3\n",
      "on 3\n",
      "security 3\n",
      "at 3\n",
      "A 3\n",
      "Political 2\n",
      "will 2\n"
     ]
    }
   ],
   "source": [
    "from collections import Counter\n",
    "with open ('job.txt','r') as job:\n",
    "    job_list = job.read().split()\n",
    "    \n",
    "    count_result = Counter(job_list) #how many times each word is in text file\n",
    "    \n",
    "    for word, count in count_result.most_common(20): #gives 20 most common in text\n",
    "        print(word,count)"
   ]
  },
  {
   "cell_type": "markdown",
   "metadata": {},
   "source": [
    "#### 2.3"
   ]
  },
  {
   "cell_type": "code",
   "execution_count": 8,
   "metadata": {},
   "outputs": [],
   "source": [
    "import xlwt        \n",
    "from collections import Counter        \n",
    "         \n",
    "book = xlwt.Workbook() # create a new excel file\n",
    "sheet_test = book.add_sheet('word_count') # add a new sheet\n",
    "i = 0\n",
    "sheet_test.write(i,0,'word') # write the header of the first column\n",
    "sheet_test.write(i,1,'count') # write the header of the second column\n",
    " \n",
    "with open('job.txt','r') as job: # define the location of your txt file\n",
    "    count_result =  Counter(job.read().split()) \n",
    "    for result in count_result.most_common(20):\n",
    "        i = i+1 \n",
    "        sheet_test.write(i,0,result[0])\n",
    "        sheet_test.write(i,1,result[1])\n",
    " \n",
    "book.save('word_count.xls') # define where to save your excel file"
   ]
  },
  {
   "cell_type": "markdown",
   "metadata": {},
   "source": [
    "#### 2.4"
   ]
  },
  {
   "cell_type": "code",
   "execution_count": 15,
   "metadata": {},
   "outputs": [
    {
     "name": "stdout",
     "output_type": "stream",
     "text": [
      "word count\n",
      "and 19.0\n",
      "the 16.0\n",
      "of 12.0\n",
      "in 10.0\n",
      "a 9.0\n",
      "to 9.0\n",
      "US 7.0\n",
      "foreign 4.0\n",
      "or 4.0\n",
      "for 3.0\n",
      "national 3.0\n",
      "language 3.0\n",
      "CIA 3.0\n",
      "Directorate 3.0\n",
      "on 3.0\n",
      "security 3.0\n",
      "at 3.0\n",
      "A 3.0\n",
      "Political 2.0\n",
      "will 2.0\n"
     ]
    }
   ],
   "source": [
    "import xlrd\n",
    "read_book = xlrd.open_workbook('word_count.xls')\n",
    "sheet = read_book.sheet_by_name(\"word_count\")\n",
    "num_rows= sheet.nrows\n",
    "for i in range(21):\n",
    "    row = sheet.row_values(i)\n",
    "    word,count=row\n",
    "    print(word,count)"
   ]
  },
  {
   "cell_type": "markdown",
   "metadata": {},
   "source": [
    "### Question 3:"
   ]
  },
  {
   "cell_type": "markdown",
   "metadata": {},
   "source": [
    "<img src = 'word_cloud.png'>"
   ]
  },
  {
   "cell_type": "code",
   "execution_count": null,
   "metadata": {},
   "outputs": [],
   "source": []
  }
 ],
 "metadata": {
  "kernelspec": {
   "display_name": "Python 3",
   "language": "python",
   "name": "python3"
  },
  "language_info": {
   "codemirror_mode": {
    "name": "ipython",
    "version": 3
   },
   "file_extension": ".py",
   "mimetype": "text/x-python",
   "name": "python",
   "nbconvert_exporter": "python",
   "pygments_lexer": "ipython3",
   "version": "3.6.5"
  }
 },
 "nbformat": 4,
 "nbformat_minor": 2
}
