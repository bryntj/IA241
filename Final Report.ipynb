{
 "cells": [
  {
   "cell_type": "markdown",
   "metadata": {},
   "source": [
    "# Final Report: IA 241"
   ]
  },
  {
   "cell_type": "markdown",
   "metadata": {},
   "source": [
    "### Objective: \n",
    "\n",
    "The objective for this project was to understand the major skills and requirements in current Intelligence Analysis jobs.  We achieved this by exploring various python libraries to display the  job data we collected through visualizations.  These visualizations helped us interpret all of the data we collected and compare the relationships between certain variables.  The results of this project will help us prepare for our future careers in Intelligence Analysis.\n"
   ]
  },
  {
   "cell_type": "markdown",
   "metadata": {},
   "source": [
    "### Methodology:\n",
    "\n",
    "The data we gathered was from Indeed.com which was easily accessible and informative.  We made a point to only include jobs that provided information on all of the categories we were looking at in order to ensure consistent and accurate data. If there was no salary listed, then we used outside research to find that information.  Also, we sorted the column, “posted date” from lowest to highest to help us later on in our visualizations.\n",
    "\n",
    "Data used in this project: <a href='job.xlsx'>data</a>"
   ]
  },
  {
   "cell_type": "code",
   "execution_count": 1,
   "metadata": {},
   "outputs": [],
   "source": [
    "import pandas"
   ]
  },
  {
   "cell_type": "code",
   "execution_count": 2,
   "metadata": {},
   "outputs": [
    {
     "data": {
      "text/html": [
       "<div>\n",
       "<style scoped>\n",
       "    .dataframe tbody tr th:only-of-type {\n",
       "        vertical-align: middle;\n",
       "    }\n",
       "\n",
       "    .dataframe tbody tr th {\n",
       "        vertical-align: top;\n",
       "    }\n",
       "\n",
       "    .dataframe thead th {\n",
       "        text-align: right;\n",
       "    }\n",
       "</style>\n",
       "<table border=\"1\" class=\"dataframe\">\n",
       "  <thead>\n",
       "    <tr style=\"text-align: right;\">\n",
       "      <th></th>\n",
       "      <th>job_title</th>\n",
       "      <th>company</th>\n",
       "      <th>posted_date</th>\n",
       "      <th>job_location</th>\n",
       "      <th>minimal_salary</th>\n",
       "      <th>job_duty</th>\n",
       "      <th>required_skills</th>\n",
       "      <th>years_experience</th>\n",
       "      <th>minimal_education</th>\n",
       "      <th>url</th>\n",
       "    </tr>\n",
       "  </thead>\n",
       "  <tbody>\n",
       "    <tr>\n",
       "      <th>0</th>\n",
       "      <td>All Source Intelligence Analyst</td>\n",
       "      <td>ICF</td>\n",
       "      <td>2018-11-15</td>\n",
       "      <td>Arlington, VA</td>\n",
       "      <td>54479</td>\n",
       "      <td>Supporting the cycle of collection, processing...</td>\n",
       "      <td>Active high level government security clearanc...</td>\n",
       "      <td>2</td>\n",
       "      <td>bachelor</td>\n",
       "      <td>https://www.indeed.com/viewjob?jk=883d171b9264...</td>\n",
       "    </tr>\n",
       "    <tr>\n",
       "      <th>1</th>\n",
       "      <td>Intelligence Analyst</td>\n",
       "      <td>Perspecta</td>\n",
       "      <td>2018-11-15</td>\n",
       "      <td>Arlington, VA</td>\n",
       "      <td>60000</td>\n",
       "      <td>The mission of the Federal Bureau of Investiga...</td>\n",
       "      <td>Bachelor's Degree or equivalent relevant exper...</td>\n",
       "      <td>0</td>\n",
       "      <td>bachelor</td>\n",
       "      <td>https://www.indeed.com/viewjob?jk=a5279cb26072...</td>\n",
       "    </tr>\n",
       "    <tr>\n",
       "      <th>2</th>\n",
       "      <td>Political Analyst</td>\n",
       "      <td>Central Intelligence Agency</td>\n",
       "      <td>2018-11-15</td>\n",
       "      <td>Washington, DC</td>\n",
       "      <td>54309</td>\n",
       "      <td>As a Political Analyst for the CIA, you will s...</td>\n",
       "      <td>Bachelor's or master's degree in one of the fo...</td>\n",
       "      <td>0</td>\n",
       "      <td>bachelor</td>\n",
       "      <td>https://www.indeed.com/viewjob?jk=91e1469788f4...</td>\n",
       "    </tr>\n",
       "    <tr>\n",
       "      <th>3</th>\n",
       "      <td>Counterterrorism Intelligence Analyst</td>\n",
       "      <td>IntelCenter</td>\n",
       "      <td>2019-03-15</td>\n",
       "      <td>Washington, DC</td>\n",
       "      <td>45000</td>\n",
       "      <td>Work involves providing current intelligence c...</td>\n",
       "      <td>Must have at least two years of related profes...</td>\n",
       "      <td>2</td>\n",
       "      <td>bachelor</td>\n",
       "      <td>https://www.indeed.com/cmp/IntelCenter/jobs/Co...</td>\n",
       "    </tr>\n",
       "    <tr>\n",
       "      <th>4</th>\n",
       "      <td>Jr. Investigative Analyst</td>\n",
       "      <td>Chenega Corporation</td>\n",
       "      <td>2019-03-15</td>\n",
       "      <td>Clarksburg, WV</td>\n",
       "      <td>55000</td>\n",
       "      <td>Conduct research on explosives permit checks a...</td>\n",
       "      <td>Active Secret Clearance. The following career ...</td>\n",
       "      <td>1</td>\n",
       "      <td>High School</td>\n",
       "      <td>https://www.indeed.com/viewjob?jk=b72f2e61c51b...</td>\n",
       "    </tr>\n",
       "    <tr>\n",
       "      <th>5</th>\n",
       "      <td>Intelligence Analyst</td>\n",
       "      <td>BAE Systems</td>\n",
       "      <td>2019-03-15</td>\n",
       "      <td>McLean, VA</td>\n",
       "      <td>63000</td>\n",
       "      <td>Work a rotating shift schedule (typically 7am ...</td>\n",
       "      <td>Understanding the basic intelligence cycle/pro...</td>\n",
       "      <td>0</td>\n",
       "      <td>bachelor</td>\n",
       "      <td>https://www.indeed.com/viewjob?jk=b9759d73a7d3...</td>\n",
       "    </tr>\n",
       "    <tr>\n",
       "      <th>6</th>\n",
       "      <td>Intelligence Analyst</td>\n",
       "      <td>Noblis</td>\n",
       "      <td>2019-03-15</td>\n",
       "      <td>Arlington, VA</td>\n",
       "      <td>89000</td>\n",
       "      <td>The candidate selected will support a federal ...</td>\n",
       "      <td>7 years’ experience in intelligence analysis\\n...</td>\n",
       "      <td>7</td>\n",
       "      <td>bachelor</td>\n",
       "      <td>https://www.indeed.com/viewjob?jk=d779e4fc0461...</td>\n",
       "    </tr>\n",
       "    <tr>\n",
       "      <th>7</th>\n",
       "      <td>Intelligence Analyst</td>\n",
       "      <td>Obsidian Solutions Group</td>\n",
       "      <td>2019-03-15</td>\n",
       "      <td>Quantico, VA</td>\n",
       "      <td>70000</td>\n",
       "      <td>Supply Chain Risk Management (SCRM) involves t...</td>\n",
       "      <td>All personnel shall be highly proficient in us...</td>\n",
       "      <td>5</td>\n",
       "      <td>bachelor</td>\n",
       "      <td>https://www.indeed.com/viewjob?cmp=Obsidian-So...</td>\n",
       "    </tr>\n",
       "    <tr>\n",
       "      <th>8</th>\n",
       "      <td>Intelligence Analyst</td>\n",
       "      <td>Akima LLC</td>\n",
       "      <td>2019-04-15</td>\n",
       "      <td>Virginia Beach, VA</td>\n",
       "      <td>92310</td>\n",
       "      <td>AIS is looking for a full time CDE expert to s...</td>\n",
       "      <td>Comprehensive knowledge of employment of milit...</td>\n",
       "      <td>3</td>\n",
       "      <td>Bachelor</td>\n",
       "      <td>https://www.indeed.com/viewjob?jk=2ff50771521a...</td>\n",
       "    </tr>\n",
       "    <tr>\n",
       "      <th>9</th>\n",
       "      <td>Jr. Criminal Investigative Analyst</td>\n",
       "      <td>General Dynamics Infromation Technology</td>\n",
       "      <td>2019-04-15</td>\n",
       "      <td>Arlington, VA</td>\n",
       "      <td>58102</td>\n",
       "      <td>The Criminal Investigative Specialist is respo...</td>\n",
       "      <td>Must have an active Secret or Top Secret clear...</td>\n",
       "      <td>1</td>\n",
       "      <td>bachelor</td>\n",
       "      <td>https://www.indeed.com/viewjob?jk=9fedab71be3e...</td>\n",
       "    </tr>\n",
       "    <tr>\n",
       "      <th>10</th>\n",
       "      <td>All Source Intelligence Analyst</td>\n",
       "      <td>Leidos</td>\n",
       "      <td>2019-04-15</td>\n",
       "      <td>McLean, VA</td>\n",
       "      <td>59000</td>\n",
       "      <td>The selected candidate will be responsible for...</td>\n",
       "      <td>Relevant exposure (for example: an internship ...</td>\n",
       "      <td>9</td>\n",
       "      <td>bachelor</td>\n",
       "      <td>https://www.indeed.com/viewjob?jk=86809d7356b7...</td>\n",
       "    </tr>\n",
       "    <tr>\n",
       "      <th>11</th>\n",
       "      <td>All Source Analyst</td>\n",
       "      <td>BAE Systems</td>\n",
       "      <td>2019-04-15</td>\n",
       "      <td>McLean, VA</td>\n",
       "      <td>63000</td>\n",
       "      <td>Become an intelligence analyst and contribute ...</td>\n",
       "      <td>Detail-oriented with a proficiency for researc...</td>\n",
       "      <td>0</td>\n",
       "      <td>bachelor</td>\n",
       "      <td>https://www.indeed.com/viewjob?jk=913edfc743c0...</td>\n",
       "    </tr>\n",
       "    <tr>\n",
       "      <th>12</th>\n",
       "      <td>Intelligence Analyst</td>\n",
       "      <td>City of Charlottesville</td>\n",
       "      <td>2019-04-15</td>\n",
       "      <td>Charlottesville, VA</td>\n",
       "      <td>45302</td>\n",
       "      <td>Responsible for providing investigative suppor...</td>\n",
       "      <td>Graduation from an accredited four-year colleg...</td>\n",
       "      <td>0</td>\n",
       "      <td>bachelor</td>\n",
       "      <td>https://www.indeed.com/viewjob?jk=b84dc599ca5e...</td>\n",
       "    </tr>\n",
       "    <tr>\n",
       "      <th>13</th>\n",
       "      <td>Intelligence Specialist</td>\n",
       "      <td>US Department of the Army</td>\n",
       "      <td>2019-04-15</td>\n",
       "      <td>Fort Belvoir, VA</td>\n",
       "      <td>99172</td>\n",
       "      <td>Perform investigations and analysis of system ...</td>\n",
       "      <td>In order to qualify, you must meet the experie...</td>\n",
       "      <td>1</td>\n",
       "      <td>No minimum education required</td>\n",
       "      <td>https://www.indeed.com/viewjob?jk=10da275b24b2...</td>\n",
       "    </tr>\n",
       "    <tr>\n",
       "      <th>14</th>\n",
       "      <td>Intelligence Analyst</td>\n",
       "      <td>General Dynamics Infromation Technology</td>\n",
       "      <td>2019-04-23</td>\n",
       "      <td>McLean, VA</td>\n",
       "      <td>58102</td>\n",
       "      <td>The Office of Military Commissions (OMC) and O...</td>\n",
       "      <td>Active Top Secret security clearance with elig...</td>\n",
       "      <td>3</td>\n",
       "      <td>bachelor</td>\n",
       "      <td>https://www.indeed.com/viewjob?jk=5d4638606035...</td>\n",
       "    </tr>\n",
       "    <tr>\n",
       "      <th>15</th>\n",
       "      <td>Intelligence Analyst</td>\n",
       "      <td>Booz Allen Hamilton</td>\n",
       "      <td>2019-04-23</td>\n",
       "      <td>McLean, VA</td>\n",
       "      <td>59000</td>\n",
       "      <td>Critical decisions are made every single day w...</td>\n",
       "      <td>Experience in the intelligence community (IC) ...</td>\n",
       "      <td>1</td>\n",
       "      <td>High School</td>\n",
       "      <td>https://www.indeed.com/viewjob?jk=8987e581e6a8...</td>\n",
       "    </tr>\n",
       "    <tr>\n",
       "      <th>16</th>\n",
       "      <td>Open Source Intelligence Analyst</td>\n",
       "      <td>Booz Allen Hamilton</td>\n",
       "      <td>2019-04-23</td>\n",
       "      <td>McLean, VA</td>\n",
       "      <td>59000</td>\n",
       "      <td>Support the analysis of open source intelligen...</td>\n",
       "      <td>Experience with intelligence community databas...</td>\n",
       "      <td>0</td>\n",
       "      <td>bachelor</td>\n",
       "      <td>https://www.indeed.com/viewjob?jk=c2f99254ea36...</td>\n",
       "    </tr>\n",
       "    <tr>\n",
       "      <th>17</th>\n",
       "      <td>All Source Intelligence Analyst</td>\n",
       "      <td>Veteran Solutions Inc.</td>\n",
       "      <td>2019-04-23</td>\n",
       "      <td>Washington, DC</td>\n",
       "      <td>75000</td>\n",
       "      <td>Collect, review, interpret, evaluate and integ...</td>\n",
       "      <td>Must have a minimum of five years analytical e...</td>\n",
       "      <td>5</td>\n",
       "      <td>bachelor</td>\n",
       "      <td>https://www.indeed.com/cmp/Veteran-Solutions-I...</td>\n",
       "    </tr>\n",
       "    <tr>\n",
       "      <th>18</th>\n",
       "      <td>Intelligence Specialist</td>\n",
       "      <td>US Department of the Air Force</td>\n",
       "      <td>2019-04-23</td>\n",
       "      <td>Quantico, VA</td>\n",
       "      <td>99172</td>\n",
       "      <td>Manages the AFOSI FIS analysis and production ...</td>\n",
       "      <td>Your resume must reflect the quality level of ...</td>\n",
       "      <td>1</td>\n",
       "      <td>No minimum education required</td>\n",
       "      <td>https://www.indeed.com/viewjob?jk=9c1feac90495...</td>\n",
       "    </tr>\n",
       "    <tr>\n",
       "      <th>19</th>\n",
       "      <td>Intelligence Analyst (Identity Intelligence)</td>\n",
       "      <td>Signature Science, LLC</td>\n",
       "      <td>2019-04-23</td>\n",
       "      <td>Washington, DC</td>\n",
       "      <td>102000</td>\n",
       "      <td>Maintain customer databases and recommend enha...</td>\n",
       "      <td>At least 4 years of experience providing biome...</td>\n",
       "      <td>4</td>\n",
       "      <td>bachelor</td>\n",
       "      <td>https://www.indeed.com/viewjob?jk=bb84fd97ca04...</td>\n",
       "    </tr>\n",
       "  </tbody>\n",
       "</table>\n",
       "</div>"
      ],
      "text/plain": [
       "                                       job_title  \\\n",
       "0                All Source Intelligence Analyst   \n",
       "1                           Intelligence Analyst   \n",
       "2                              Political Analyst   \n",
       "3          Counterterrorism Intelligence Analyst   \n",
       "4                      Jr. Investigative Analyst   \n",
       "5                           Intelligence Analyst   \n",
       "6                           Intelligence Analyst   \n",
       "7                           Intelligence Analyst   \n",
       "8                           Intelligence Analyst   \n",
       "9             Jr. Criminal Investigative Analyst   \n",
       "10               All Source Intelligence Analyst   \n",
       "11                            All Source Analyst   \n",
       "12                          Intelligence Analyst   \n",
       "13                       Intelligence Specialist   \n",
       "14                          Intelligence Analyst   \n",
       "15                          Intelligence Analyst   \n",
       "16              Open Source Intelligence Analyst   \n",
       "17               All Source Intelligence Analyst   \n",
       "18                       Intelligence Specialist   \n",
       "19  Intelligence Analyst (Identity Intelligence)   \n",
       "\n",
       "                                    company posted_date         job_location  \\\n",
       "0                                       ICF  2018-11-15        Arlington, VA   \n",
       "1                                 Perspecta  2018-11-15        Arlington, VA   \n",
       "2               Central Intelligence Agency  2018-11-15       Washington, DC   \n",
       "3                               IntelCenter  2019-03-15       Washington, DC   \n",
       "4                       Chenega Corporation  2019-03-15       Clarksburg, WV   \n",
       "5                               BAE Systems  2019-03-15           McLean, VA   \n",
       "6                                    Noblis  2019-03-15        Arlington, VA   \n",
       "7                  Obsidian Solutions Group  2019-03-15         Quantico, VA   \n",
       "8                                 Akima LLC  2019-04-15   Virginia Beach, VA   \n",
       "9   General Dynamics Infromation Technology  2019-04-15        Arlington, VA   \n",
       "10                                   Leidos  2019-04-15           McLean, VA   \n",
       "11                              BAE Systems  2019-04-15           McLean, VA   \n",
       "12                  City of Charlottesville  2019-04-15  Charlottesville, VA   \n",
       "13                US Department of the Army  2019-04-15     Fort Belvoir, VA   \n",
       "14  General Dynamics Infromation Technology  2019-04-23           McLean, VA   \n",
       "15                      Booz Allen Hamilton  2019-04-23           McLean, VA   \n",
       "16                      Booz Allen Hamilton  2019-04-23           McLean, VA   \n",
       "17                   Veteran Solutions Inc.  2019-04-23       Washington, DC   \n",
       "18           US Department of the Air Force  2019-04-23         Quantico, VA   \n",
       "19                   Signature Science, LLC  2019-04-23       Washington, DC   \n",
       "\n",
       "    minimal_salary                                           job_duty  \\\n",
       "0            54479  Supporting the cycle of collection, processing...   \n",
       "1            60000  The mission of the Federal Bureau of Investiga...   \n",
       "2            54309  As a Political Analyst for the CIA, you will s...   \n",
       "3            45000  Work involves providing current intelligence c...   \n",
       "4            55000  Conduct research on explosives permit checks a...   \n",
       "5            63000  Work a rotating shift schedule (typically 7am ...   \n",
       "6            89000  The candidate selected will support a federal ...   \n",
       "7            70000  Supply Chain Risk Management (SCRM) involves t...   \n",
       "8            92310  AIS is looking for a full time CDE expert to s...   \n",
       "9            58102  The Criminal Investigative Specialist is respo...   \n",
       "10           59000  The selected candidate will be responsible for...   \n",
       "11           63000  Become an intelligence analyst and contribute ...   \n",
       "12           45302  Responsible for providing investigative suppor...   \n",
       "13           99172  Perform investigations and analysis of system ...   \n",
       "14           58102  The Office of Military Commissions (OMC) and O...   \n",
       "15           59000  Critical decisions are made every single day w...   \n",
       "16           59000  Support the analysis of open source intelligen...   \n",
       "17           75000  Collect, review, interpret, evaluate and integ...   \n",
       "18           99172  Manages the AFOSI FIS analysis and production ...   \n",
       "19          102000  Maintain customer databases and recommend enha...   \n",
       "\n",
       "                                      required_skills  years_experience  \\\n",
       "0   Active high level government security clearanc...                 2   \n",
       "1   Bachelor's Degree or equivalent relevant exper...                 0   \n",
       "2   Bachelor's or master's degree in one of the fo...                 0   \n",
       "3   Must have at least two years of related profes...                 2   \n",
       "4   Active Secret Clearance. The following career ...                 1   \n",
       "5   Understanding the basic intelligence cycle/pro...                 0   \n",
       "6   7 years’ experience in intelligence analysis\\n...                 7   \n",
       "7   All personnel shall be highly proficient in us...                 5   \n",
       "8   Comprehensive knowledge of employment of milit...                 3   \n",
       "9   Must have an active Secret or Top Secret clear...                 1   \n",
       "10  Relevant exposure (for example: an internship ...                 9   \n",
       "11  Detail-oriented with a proficiency for researc...                 0   \n",
       "12  Graduation from an accredited four-year colleg...                 0   \n",
       "13  In order to qualify, you must meet the experie...                 1   \n",
       "14  Active Top Secret security clearance with elig...                 3   \n",
       "15  Experience in the intelligence community (IC) ...                 1   \n",
       "16  Experience with intelligence community databas...                 0   \n",
       "17  Must have a minimum of five years analytical e...                 5   \n",
       "18  Your resume must reflect the quality level of ...                 1   \n",
       "19  At least 4 years of experience providing biome...                 4   \n",
       "\n",
       "                minimal_education  \\\n",
       "0                        bachelor   \n",
       "1                        bachelor   \n",
       "2                        bachelor   \n",
       "3                        bachelor   \n",
       "4                     High School   \n",
       "5                        bachelor   \n",
       "6                        bachelor   \n",
       "7                        bachelor   \n",
       "8                        Bachelor   \n",
       "9                        bachelor   \n",
       "10                       bachelor   \n",
       "11                       bachelor   \n",
       "12                       bachelor   \n",
       "13  No minimum education required   \n",
       "14                       bachelor   \n",
       "15                    High School   \n",
       "16                       bachelor   \n",
       "17                       bachelor   \n",
       "18  No minimum education required   \n",
       "19                       bachelor   \n",
       "\n",
       "                                                  url  \n",
       "0   https://www.indeed.com/viewjob?jk=883d171b9264...  \n",
       "1   https://www.indeed.com/viewjob?jk=a5279cb26072...  \n",
       "2   https://www.indeed.com/viewjob?jk=91e1469788f4...  \n",
       "3   https://www.indeed.com/cmp/IntelCenter/jobs/Co...  \n",
       "4   https://www.indeed.com/viewjob?jk=b72f2e61c51b...  \n",
       "5   https://www.indeed.com/viewjob?jk=b9759d73a7d3...  \n",
       "6   https://www.indeed.com/viewjob?jk=d779e4fc0461...  \n",
       "7   https://www.indeed.com/viewjob?cmp=Obsidian-So...  \n",
       "8   https://www.indeed.com/viewjob?jk=2ff50771521a...  \n",
       "9   https://www.indeed.com/viewjob?jk=9fedab71be3e...  \n",
       "10  https://www.indeed.com/viewjob?jk=86809d7356b7...  \n",
       "11  https://www.indeed.com/viewjob?jk=913edfc743c0...  \n",
       "12  https://www.indeed.com/viewjob?jk=b84dc599ca5e...  \n",
       "13  https://www.indeed.com/viewjob?jk=10da275b24b2...  \n",
       "14  https://www.indeed.com/viewjob?jk=5d4638606035...  \n",
       "15  https://www.indeed.com/viewjob?jk=8987e581e6a8...  \n",
       "16  https://www.indeed.com/viewjob?jk=c2f99254ea36...  \n",
       "17  https://www.indeed.com/cmp/Veteran-Solutions-I...  \n",
       "18  https://www.indeed.com/viewjob?jk=9c1feac90495...  \n",
       "19  https://www.indeed.com/viewjob?jk=bb84fd97ca04...  "
      ]
     },
     "execution_count": 2,
     "metadata": {},
     "output_type": "execute_result"
    }
   ],
   "source": [
    "df=pandas.read_excel(\"job.xlsx\")\n",
    "df[:20]"
   ]
  },
  {
   "cell_type": "code",
   "execution_count": 3,
   "metadata": {},
   "outputs": [],
   "source": [
    "\n",
    "job_title_list = df['job_title']\n",
    "company_list = df['company']\n",
    "posted_date_list = df['posted_date']\n",
    "job_location_list = df['job_location']\n",
    "minimal_salary_list = df['minimal_salary']\n",
    "job_duty_list = df['job_duty']\n",
    "required_skills_list = df['required_skills']\n",
    "years_experience_list = df['years_experience']\n",
    "minimal_education_list = df['minimal_education']\n"
   ]
  },
  {
   "cell_type": "markdown",
   "metadata": {},
   "source": [
    "## Question 2: Code and Visualizations"
   ]
  },
  {
   "cell_type": "markdown",
   "metadata": {},
   "source": [
    "#### 2.1: Most Common Job Titles"
   ]
  },
  {
   "cell_type": "code",
   "execution_count": 4,
   "metadata": {},
   "outputs": [
    {
     "data": {
      "text/plain": [
       "0                  All Source Intelligence Analyst\n",
       "1                             Intelligence Analyst\n",
       "2                                Political Analyst\n",
       "3            Counterterrorism Intelligence Analyst\n",
       "4                        Jr. Investigative Analyst\n",
       "5                             Intelligence Analyst\n",
       "6                             Intelligence Analyst\n",
       "7                             Intelligence Analyst\n",
       "8                             Intelligence Analyst\n",
       "9               Jr. Criminal Investigative Analyst\n",
       "10                 All Source Intelligence Analyst\n",
       "11                              All Source Analyst\n",
       "12                            Intelligence Analyst\n",
       "13                         Intelligence Specialist\n",
       "14                            Intelligence Analyst\n",
       "15                            Intelligence Analyst\n",
       "16                Open Source Intelligence Analyst\n",
       "17                 All Source Intelligence Analyst\n",
       "18                         Intelligence Specialist\n",
       "19    Intelligence Analyst (Identity Intelligence)\n",
       "Name: job_title, dtype: object"
      ]
     },
     "execution_count": 4,
     "metadata": {},
     "output_type": "execute_result"
    }
   ],
   "source": [
    "df[\"job_title\"]"
   ]
  },
  {
   "cell_type": "code",
   "execution_count": 5,
   "metadata": {},
   "outputs": [
    {
     "name": "stdout",
     "output_type": "stream",
     "text": [
      "Counter({'Intelligence Analyst': 8, 'All Source Intelligence Analyst': 3, 'Intelligence Specialist': 2, 'Political Analyst': 1, 'Counterterrorism Intelligence Analyst': 1, 'Jr. Investigative Analyst': 1, 'Jr. Criminal Investigative Analyst': 1, 'All Source Analyst': 1, 'Open Source Intelligence Analyst': 1, 'Intelligence Analyst (Identity Intelligence)': 1})\n"
     ]
    }
   ],
   "source": [
    "from collections import Counter\n",
    "import matplotlib.pyplot as plt\n",
    "df.sort_values(by=['job_title'])\n",
    "result = Counter(df['job_title'])\n",
    "print(result)"
   ]
  },
  {
   "cell_type": "code",
   "execution_count": 6,
   "metadata": {},
   "outputs": [
    {
     "data": {
      "image/png": "[encoded data removed]",
      "text/plain": [
       "<Figure size 432x288 with 1 Axes>"
      ]
     },
     "metadata": {
      "needs_background": "light"
     },
     "output_type": "display_data"
    }
   ],
   "source": [
    "plt.barh(list(result.keys()),list(result.values()))\n",
    "plt.show()"
   ]
  },
  {
   "cell_type": "markdown",
   "metadata": {},
   "source": [
    "In order to find the most common job titles, we used the Counter function to count the number of occurrences of each job.  The most common job title was obviously “Intelligence Analyst” since that was what we searched for in our data collection. Many job postings also further specified their position as \"All Source Intelligence Analyst.\" Additionally, some military positions specified their position as \"Intelligence Specialist.\" We displayed this data on a bar chart in order to make it easy to read and interpret."
   ]
  },
  {
   "cell_type": "markdown",
   "metadata": {},
   "source": [
    "#### 2.2: Most Common Company Posting"
   ]
  },
  {
   "cell_type": "code",
   "execution_count": 7,
   "metadata": {
    "scrolled": true
   },
   "outputs": [
    {
     "name": "stdout",
     "output_type": "stream",
     "text": [
      "Counter({'BAE Systems': 2, 'General Dynamics Infromation Technology': 2, 'Booz Allen Hamilton': 2, 'ICF': 1, 'Perspecta': 1, 'Central Intelligence Agency': 1, 'IntelCenter': 1, 'Chenega Corporation': 1, 'Noblis': 1, 'Obsidian Solutions Group': 1, 'Akima LLC': 1, 'Leidos': 1, 'City of Charlottesville': 1, 'US Department of the Army': 1, 'Veteran Solutions Inc.': 1, 'US Department of the Air Force': 1, 'Signature Science, LLC': 1})\n"
     ]
    }
   ],
   "source": [
    "df.sort_values(by=['company'])\n",
    "result = Counter(df['company'])\n",
    "print(result)\n"
   ]
  },
  {
   "cell_type": "code",
   "execution_count": 8,
   "metadata": {
    "scrolled": true
   },
   "outputs": [
    {
     "data": {
      "image/png": "[encoded data removed]",
      "text/plain": [
       "<Figure size 432x288 with 1 Axes>"
      ]
     },
     "metadata": {
      "needs_background": "light"
     },
     "output_type": "display_data"
    }
   ],
   "source": [
    "plt.barh(list(result.keys()),list(result.values()))\n",
    "plt.show()"
   ]
  },
  {
   "cell_type": "markdown",
   "metadata": {},
   "source": [
    "To find which company posted the most number of jobs, we also used the Counter function. Most all of the companies only had one job post, however a few had two. This is not surprising, however, since our pool of data was relatively small. The most common job postings were from \"Booz Allen Hamilton,\" \"General Dynamics Information Technology,\" and \"BAE Systems.\" Although we only recorded two, these companies had many postings on Indeed as compared with other companies/agencies. "
   ]
  },
  {
   "cell_type": "markdown",
   "metadata": {},
   "source": [
    "#### 2.3 Posted Date"
   ]
  },
  {
   "cell_type": "code",
   "execution_count": 9,
   "metadata": {},
   "outputs": [
    {
     "name": "stdout",
     "output_type": "stream",
     "text": [
      "Counter({Timestamp('2019-04-15 00:00:00'): 6, Timestamp('2019-04-23 00:00:00'): 6, Timestamp('2019-03-15 00:00:00'): 5, Timestamp('2018-11-15 00:00:00'): 3})\n"
     ]
    }
   ],
   "source": [
    "result = Counter(df['posted_date'])\n",
    "\n",
    "print(result)\n"
   ]
  },
  {
   "cell_type": "code",
   "execution_count": 10,
   "metadata": {},
   "outputs": [
    {
     "data": {
      "image/png": "[encoded data removed]",
      "text/plain": [
       "<Figure size 1080x360 with 1 Axes>"
      ]
     },
     "metadata": {
      "needs_background": "light"
     },
     "output_type": "display_data"
    }
   ],
   "source": [
    "%matplotlib inline\n",
    "import matplotlib.pyplot as plt\n",
    "\n",
    "from matplotlib.pyplot import figure\n",
    "figure(figsize=(15, 5))\n",
    "\n",
    "plt.plot(result.keys(),result.values())\n",
    "plt.show()"
   ]
  },
  {
   "cell_type": "markdown",
   "metadata": {},
   "source": [
    "We used a line plot to display how the number of job posts vary by days.  The Counter function ordered these dates by highest frequency, but the line plot displayed it based on chronological order. We sorted the dates manually in the excel document to display plot properly. The graph shows that the March and mid-April were the months that had the highest amount of job posts. Also November had three postings. It should be noted that there were only postings in November, March, and April -- the line chart just displayed the icreasing trend."
   ]
  },
  {
   "cell_type": "markdown",
   "metadata": {},
   "source": [
    "#### 2.4 Location of Jobs"
   ]
  },
  {
   "cell_type": "code",
   "execution_count": 11,
   "metadata": {},
   "outputs": [
    {
     "name": "stdout",
     "output_type": "stream",
     "text": [
      "Counter({'McLean, VA': 6, 'Arlington, VA': 4, 'Washington, DC': 4, 'Quantico, VA': 2, 'Clarksburg, WV': 1, 'Virginia Beach, VA': 1, 'Charlottesville, VA': 1, 'Fort Belvoir, VA': 1})\n"
     ]
    }
   ],
   "source": [
    "df.sort_values(by=['job_location'])\n",
    "result = Counter(df['job_location'])\n",
    "print(result)"
   ]
  },
  {
   "cell_type": "code",
   "execution_count": 12,
   "metadata": {},
   "outputs": [
    {
     "data": {
      "image/png": "[encoded data removed]",
      "text/plain": [
       "<Figure size 432x288 with 1 Axes>"
      ]
     },
     "metadata": {
      "needs_background": "light"
     },
     "output_type": "display_data"
    }
   ],
   "source": [
    "plt.barh(list(result.keys()),list(result.values()))\n",
    "plt.show()"
   ]
  },
  {
   "cell_type": "markdown",
   "metadata": {},
   "source": [
    "The data from locations of the jobs were much more spread out than all of the previous variables.  The Counter function showed that the highest location, McLean, VA, had 6 jobs from this area, followed by Arlington and Washington, DC, each having 4.  This was not surprising to us because Northern Virginia is a popular location for government-related jobs."
   ]
  },
  {
   "cell_type": "markdown",
   "metadata": {},
   "source": [
    "#### 2.5 Average Minimal Salary"
   ]
  },
  {
   "cell_type": "code",
   "execution_count": 13,
   "metadata": {},
   "outputs": [
    {
     "name": "stdout",
     "output_type": "stream",
     "text": [
      "The average minimal salary is $67997.4\n"
     ]
    }
   ],
   "source": [
    "import numpy as np\n",
    "print(\"The average {} is ${}\".format('minimal salary',np.mean(minimal_salary_list)))\n"
   ]
  },
  {
   "cell_type": "markdown",
   "metadata": {},
   "source": [
    "For the average minimal salary, we imported the python library, numpy, in order to print the average minimal salary.  The average minimal salary was just over 67,000 which, is reported on many job sites as the average intelligence analyst salary. We recorded our average as 67,997.  The pieces of data we gathered for this variable had a high range. Determining the median of the minimal salaries would be helpful to understand the distribution of the salaries.  Because the output was only one number, there was no need for a visualization."
   ]
  },
  {
   "cell_type": "markdown",
   "metadata": {},
   "source": [
    "#### 2.6 Average Minimal Years of Experience"
   ]
  },
  {
   "cell_type": "code",
   "execution_count": 14,
   "metadata": {},
   "outputs": [
    {
     "name": "stdout",
     "output_type": "stream",
     "text": [
      "The average minimal years of experience is 2.25\n"
     ]
    }
   ],
   "source": [
    "print(\"The average {} is {}\".format('minimal years of experience',np.mean(years_experience_list)))"
   ]
  },
  {
   "cell_type": "markdown",
   "metadata": {},
   "source": [
    "For average minimal years of experience, we also used the numpy library in order to print the average minimal years needed for employment.  The result showed that a little more than 2 years of experience were required. Several jobs had no experience required beyond academic studies. No visualization was needed because the output was only one number."
   ]
  },
  {
   "cell_type": "markdown",
   "metadata": {},
   "source": [
    "#### 2.7 Relationship of Years of Experience to Salary"
   ]
  },
  {
   "cell_type": "code",
   "execution_count": 15,
   "metadata": {},
   "outputs": [],
   "source": [
    "from scipy import stats"
   ]
  },
  {
   "cell_type": "code",
   "execution_count": 16,
   "metadata": {},
   "outputs": [
    {
     "data": {
      "image/png": "[encoded data removed]",
      "text/plain": [
       "<Figure size 432x288 with 1 Axes>"
      ]
     },
     "metadata": {
      "needs_background": "light"
     },
     "output_type": "display_data"
    }
   ],
   "source": [
    "\n",
    "\n",
    "plt.scatter(years_experience_list,minimal_salary_list)\n",
    "\n",
    "plt.xlabel('Years of Experience')\n",
    "plt.ylabel('Minimal Salary')\n",
    "plt.show()"
   ]
  },
  {
   "cell_type": "markdown",
   "metadata": {},
   "source": [
    "In order to determine the relationship between years of experience and salaries, we used the python library, scipy, in order to create a scatter plot.  This scatter plot helped us visualize the trends between these two variables.  Most of the data points were heavily concentrated on the lower ends of each axis.  The other data points were more spread out, however it was evident that there was a positive correlation between years of experience and minimal salaries.  In the future, we could code a line of best fit to display on the scatterplot, in order to make interpreting the data on the plot much easier and faster."
   ]
  },
  {
   "cell_type": "markdown",
   "metadata": {},
   "source": [
    "#### 2.8 Common Job Duties"
   ]
  },
  {
   "cell_type": "code",
   "execution_count": 31,
   "metadata": {},
   "outputs": [],
   "source": [
    "import nltk\n"
   ]
  },
  {
   "cell_type": "code",
   "execution_count": 32,
   "metadata": {},
   "outputs": [
    {
     "name": "stdout",
     "output_type": "stream",
     "text": [
      "Supporting the cycle of collection, processing, analysis, production, and/or dissemination of intelligence information in accordance with the National Intelligence Priorities Framework.\n",
      "Working alongside government analysts within an integrated team to conceptualize and draft intelligence reports and other products for use by more senior intelligence officers.\n",
      "Collaborating with mission partners to facilitate information exchange and help to better synchronize and align intelligence efforts among agencies and levels of government.\n",
      "Contributing to the cutting-edge of new intelligence interests like critical infrastructure and cyber interdependencies; the dark web; open source document and social media exploitation, etc.\n",
      "Participating in improvement efforts by researching and helping to apply best practice methodologies that strengthen and enhance the performance of the intelligence process.\n",
      "Developing recommendations to assist the client and allied agencies with efforts to advance intelligence tradecraft, especially as pertains to more effective all-source intelligence fusion.\n",
      "Applying new and advanced tools and techniques to any element of the intelligence cycle to address complex challenges, with an emphasis on big data analytics and data visualization.\n",
      "The mission of the Federal Bureau of Investigation's (FBI) Counterterrorism Division's (CTD) Foreign Terrorist Tracking Task Force (FTTTF) is to provide information that helps keep both individuals and their supporters who may pose threats to national security out of the U.S. or leads to their removal, detention, prosecution, or other legal action. The FTTTF supports FBI field operations by conducting bulk and targeted data analyses. Duties and responsibilities include: - Selects, abstracts, or excerpts data from specific sources and compiles them; - Evaluates and makes preliminary analyses of raw intelligence data in items of such factors as adequacy of detail and coverage - Maintains files of raw or abstracted data - Provides services that seek, capture, consolidate, and synthesize locally relevant data to create and maintain baseline domain awareness for the FBI's area of responsibility, including observed and potential threat components, indicators, vulnerabilities, and domain intelligence gaps - Develops and maintains source identification products - Receives and analyzes information assessing office collection capabilities against the FBI's priority criminal and national security threats, indicators and/or gaps\n",
      "As a Political Analyst for the CIA, you will support policymakers by producing and delivering written and oral assessments of the domestic politics, foreign policy, stability, and social issues of foreign governments and entities. Your analysis will examine these actors' goals and motivations, culture, values, history, society, decision making processes, and ideologies in the context of how those elements affect US interests and national security.\n",
      "Work involves providing current intelligence counterterrorism support to the intel, military and law enforcement communities. Customers are analysts and operators. IntelCenter does not provide policy support or work in any aspect of the political arena. Four core areas of work within the terrorist to rebel group spectrum are targeting, tactics, operational aspects and messaging (including videos and threat statements). Analysts work directly with operator and analytical communities at intelligence agencies, military and law enforcement in more than 30 countries. Analyst responsibilities are specific to assigned accounts which are geographic, group or specialty focused. Analysts typically have accounts in all three categories. Watch Officer responsibilities require an awareness of activity worldwide and the significance of developments even outside of assigned accounts. Work is focused on impact. For example an analytical product with the complexity equivalent of 1+1 that assists in a takedown or interdiction is valued over a doctoral thesis that has little to no relevance to operational activity or current threat assessments. We stress impact, not an academic approach.\n",
      "Conduct research on explosives permit checks and analyze information for validity.\n",
      "Provide analysis (reviewing transactions marked for processing, processing work identified within a transaction, and providing follow-up action as needed), on NICS transactions as required by the NICS.\n",
      "Conduct research and analysis on two existing Delay Queue transactions per hour in accordance with Standard Operating Procedures (SOP).\n",
      "Conduct verification on specific Originating Agency Identifiers and correct/update corresponding contact and agency information as needed.\n",
      "Compose proper transaction research comments.\n",
      "Contact agencies as needed. Document any contact-related issues to include agency, method of contact, and description of issue – these need to be supplied to the NICS Section’s Business Advocate Team (BAT).\n",
      "Provide updated or any new contact information received while in correspondence with any agency to the BAT.\n",
      "Process incoming appeal requests via the NICS, assisting with providing first day responses.\n",
      "Validate submitted appeal disposition documentation for accuracy.\n",
      "Evaluate, continuously, existing procedures, processes, techniques, models, and/or systems related to the work being processed and provide recommended actions or solutions.\n",
      "Assist the NICS Section with composing and maintaining adequate documentation of all work as required under the current Standard Operating Procedures (SOP) within the NICS Section.\n",
      "Complete necessary document clean-up of existing records to update and/or purge documentation as needed.\n",
      "Maintain proper control of their individually assigned Brady Identification Numbers.\n",
      "Will be responsible for the accuracy of all work completed and held accountable to the standards set forth in the NICS Section SOPs. Work will be monitored by existing NICS Assessment Unit personnel and reviewed in accordance to the quality standards set within the NICS Section.\n",
      "Work a rotating shift schedule (typically 7am to 7pm or 7pm to 7am and is subject to change at any time by the customer), alternating days and nights each month which will include weekends and holidays.\n",
      "Input data accurately, timely exploit FMV collected by sensors on ISR platforms, apply HUMINT and SIGINT information to FMV imagery analysis, and use an electronic light table to exploit NTM imagery in softcopy.\n",
      "Produce imagery-derived graphic products and reports and publish for distribution.\n",
      "Compile intelligence materials for use in briefings to high-level government personnel.\n",
      "The candidate selected will support a federal law enforcement customer by developing and supporting processes to identify, collect, define, aggregate, conceptualize, and prioritize strategic and near-term requirements within the organizations mission.\n",
      "The selected person will be responsible for preparing parts of complex studies or reports which include all aspects of their specifically-defined geographic or functional areas. The person will be responsible for evaluation and interpretation of their findings and also be tasked with:\n",
      "Applying and modifying established intelligence practices to specific problems\n",
      "Providing basic-descriptive and intelligence reports to field collectors within their AOR\n",
      "Evaluating incoming reports\n",
      "Providing specialized intelligence and threat analysis and production support\n",
      "Presenting findings/briefings to key personnel\n",
      "Developing information and technical support documents and other related documents\n",
      "Supply Chain Risk Management (SCRM) involves the research, analysis, and production of all-source intelligence products in response to DoD’s acquisition community requests for information on supply chain threats. SCRM Threat Analyst Center (TAC) personnel will primarily develop specific assessments of threats to the supply chain of DoD suppliers, contractors, and subcontractors. Such analysis would be greatly enhanced by having access to strategic-level analysis of Foreign Intelligence Entities (FIEs).\n",
      "AIS is looking for a full time CDE expert to support the JS J7 and the Joint Targeting School. The purpose of the JTS is to provide doctrinally-based joint targeting education and training in order to prepare Service, Interagency, and Allied personnel for operational-level targeting duties. The JTS is a Joint Functional School that falls within the Joint Education and Doctrine Directorate of the J7, Joint Force Development of the Joint Staff\n",
      "\n",
      "The proposed SME requires expert knowledge and understanding of collateral damage methodology, precedent, procedures, and regulations issued by the DOD, JS, and the JS J7. Expert knowledge on the concepts, principles, practices, laws and regulations that apply to collateral damage estimation analysis to support acquisition and development of courseware and services.\n",
      "The Criminal Investigative Specialist is responsible for building reports (leads) to determine the legal status of visitors and students who entered the country on a specific visa. The function of our mission-critical support contract provides investigative analytical support, data entry, law enforcement database research, communications guidance, and technical support services.\n",
      "Daily responsibilities of the Intelligence Analyst Associate include researching over 22 government and open source (OSINT) databases to determine status violations and lead viability. Information gathered is transferred into a template and the subject is deemed viable or non-viable. This builds the case for the field agent to conduct a “knock and talk” or an arrest and potential removal of the given subject from the United States.\n",
      "The selected candidate will be responsible for supporting executive level officials with drafting reports, editing high-level reports, and writing short and succinct papers in support of the customer. The All-Source analyst will assist team members with formatting and publishing daily publications. \n",
      "Become an intelligence analyst and contribute directly to protecting the nation while serving on this dynamic U.S. Government counter-terrorism program. Learn to leverage numerous U.S. Government analytic tools to review daily threat reporting, perform in-depth research and analysis on threats, and submit formal intelligence reports while adhering to high quality and accuracy standards. Your work will support several facets of U.S. Government counter-terrorism efforts and contribute to the Intelligence Community’s knowledge and prevention of potential threats.\n",
      "Responsible for providing investigative support for the Charlottesville Police Department by processing a full range and variety of criminal and general investigative leads and cases from inception to completion in a non-sworn capacity. The Intelligence Analyst will display a high level of initiative, effort, and commitment towards completing assignments efficiently; will demonstrate responsible behavior and attention to detail; and will work well with minimal supervision.\n",
      "Essential Responsibilities and Duties:\n",
      "Independently determines necessary principal and supplemental leads for research and analysis from cases assigned to detectives with limited preliminary information; processes general investigative cases from inception to completion;\n",
      "Provides specific intelligence and investigative lead information to investigators;\n",
      "Researches, records, and uses computerized databases to conduct investigations based on specific requests for information or in response to identifiable events;\n",
      "Identifies persons and suspects based on partial descriptions and conducts detailed background research on the persons through direct computer access or personal contact with systems and organizations to further law enforcement investigations;\n",
      "Analyzes all information found, determines and extracts that which is pertinent to investigative case at hand, and evaluates investigative significance of information and determines subsequent trails to follow;\n",
      "Prepares a detailed synopsis of research findings in final form to represent or supplement official investigative case document results and may be required to prepare graphic aids regarding research findings;\n",
      "Analyzes reports and other information received and identifies additional personnel or agencies to which intelligence and investigative data should be disseminated;\n",
      "Prepares and disseminates reports and relevant information to appropriate information consumers, to assist in furthering intelligence, investigative, enforcement, and prevention activities performed by the department and other agencies;\n",
      "Prepares charts (link analysis, timelines, etc), tables and other illustrative devices for visual presentation of data;\n",
      "Inputs and analyzes phone records using available analysis software systems;\n",
      "Establishes, maintains, and cultivates vital and extensive liaison contacts with a myriad of federal, state, local, private industry, and public resources;\n",
      "Attends intelligence, investigation, and law enforcement sharing meetings;\n",
      "May be called upon to testify in a court of law as to content of information obtained.\n",
      "Performs related duties, including, specifically activities such as: Preparing Photo Lineups, Entering information into various databases, Obtaining post office, telephone company, power company, tax office and other documentary records for assisting investigations, Taking requests from other agencies for general information from our records.\n",
      "Perform investigations and analysis of system developmental and acquisition initiatives.\n",
      "Review threat documents and studies and extract data in order to satisfy organizational requirements.\n",
      "Collect and analyze threat information and collect and analyze the operational and technical requirements.\n",
      "Prepare capabilities documentation for Intelligence Cyber systems.\n",
      "Represent the Intelligence Cyber Program and in-process reviews (IPR) and prepare and present briefing materials.\n",
      "Represent the command in reviews of capability development in the fielding of developed Intelligence Cyber capabilities and systems.\n",
      "The Office of Military Commissions (OMC) and Office of the Chief Prosecutor (OCP) require analytical assistance to support prosecution counsel in all aspects of pre-trial investigation and trial preparation for the Military Commissions convened under the Military Commissions Act of 2009 (including United States v. Al Nashiri and United States v. Khalid Shaikh Mohammad et al.). \n",
      "\n",
      "Analysts supporting the Office of the Chief Prosecutor (OCP) perform detailed research and analysis of information related to assigned cases. Analysts must be willing and able to commit to a multi-year assignment providing analytical and consulting services to the U.S. Government and the prosecution of criminal and capital charges related to terrorism. Analysts work in a team environment under the technical direction of counsel to gather, process, verify, validate, review, and assess information and evidence acquired or developed through investigations, interrogations, interviews, analysis, and discovery; develop leads for further analysis or investigation; conduct research and analysis to support attorney products and strategy; and draft analytical reports. Search, review, segregate and analyze any and all records of interrogations, interviews, statements, and other evidence either provided by or obtained from, e.g.: research or investigation; current and former detainees held by U.S. or coalition forces; investigations conducted outside of the Commissions cases; and discovery\n",
      "Serve on a privileged basis to counsel litigating military commission cases (i.e., maintain, preserve, and protect attorney work product privilege)\n",
      "Critical decisions are made every single day within the intelligence community . What if you could use your analytical skills to help them make informed decisions? With all the information available today, it takes a skilled analyst to know how to find and interpret the best data to give their clients the right answers. As an intelligence analyst, you use your specialized regional/functional experience and your attention to detail to develop analytic assessments to give your client the actionable intelligence and context they need. If you have strong analytical skills and a problem solving mindset, we have an opportunity to use those skills to protect our national security against threat actors as well as inform our nations’ leaders. \n",
      "\n",
      "As an intelligence analyst on our team, you’ll help your client understand overall threats. Using your comprehensive understanding of various collection platforms, you’ll explore new data sources, craft effective queries, and combine information from disparate sources, including SIGINT, GEOINT, OSINT, and open source. You’ll validate information and develop client tradecraft as you help build assessments for US IC-wide products and senior policy makers. As the authority on your threat target set, your client will look to you for time critical recommendations, often under pressure. This is a chance to grow your expertise and broaden your skillset. You’ll share your expertise with other analysts through leadership and mentoring. We focus on growing as a team to deliver the best support to our customers, so you’ll have resources to learn new skills and tools. Join us as we provide the right information at the right time to support the critical needs of our nation’s leaders. \n",
      "Support the analysis of open source intelligence (OSINT). Consult on how to leverage OSINT data and information, use specialized OSINT tools and services, and consult on the development of OSINT products. Support the development of new OSINT targeting and exploitation techniques and broadly apply knowledge to analyze the development of OSINT policy and tradecraft. \n",
      "Collect, review, interpret, evaluate and integrate large volumes of intelligence data from multiple sources pertaining to extensive, interrelated geographical or functional fields.\n",
      "Plan, implement, and maintain databases to store and process technical or operational intelligence in one or more assigned areas.\n",
      "Experience in navigating, querying, and using data from multiple open source and Intelligence Community databases and forums on classified and unclassified systems.\n",
      "Utilize analytical tools and methodologies to fill present intelligence gaps and plan for future gaps.\n",
      "Initiate the collection of intelligence to fill critical gaps, weighing the risks posed by the collection of this information against the need for it.\n",
      "Plan, develop, organize, and conduct special research studies providing comprehensive assessments of broad, exceptionally complex, or highly sensitive issues within the assigned area.\n",
      "Develop methods of evaluating the validity, accuracy, and reliability of a broad array and high volume of information, for translation into intelligence relevant to the organization.\n",
      "Analyze the significance and policy implications of issues in the assigned areas.\n",
      "Initiate contact with personnel stationed overseas, other intelligence analysts, and experts in specialty fields to validate and ascertain reliability of information.\n",
      "Analyze intelligence reports and data to make recommendations which inform the development of agency programs.\n",
      "Develop strategies for major areas of uncertainty in domestic and international political, social, or economic policies, trends, or situations that had potentially significant repercussions to the agency, to the United States, or internationally.\n",
      "Provide interpretation of intelligence analyses and draft critical intelligence assessments.\n",
      "Apprise policy and intelligence officials at all levels, within and outside the organization, on emerging issues by preparing intelligence reports and presenting oral briefings.\n",
      "Assist in developing the organization’s position on controversial or disputed issues.\n",
      "Write for various publications on behalf of the organization.\n",
      "Respond to requests for information from a wide variety of sources.\n",
      "Serve as technical expert, independently developing and maintaining critical relationships with various stakeholders in the government, private industry, and academia to further USAID’s intelligence research, operations, and development efforts.\n",
      "Create processes by which the organization pursues collaborative arrangements and relationships with the Intelligence Community and intelligence proponents.\n",
      "Conceive, develop, and implement outreach strategies designed to reach and engage intelligence entities.\n",
      "Provide advice and assistance on developing policies and procedures for the organization’s liaison activities.\n",
      "Manages the AFOSI FIS analysis and production program. prepares FIS related finished intelligence analysis reports, and provides focused FIS related support to counterintelligence and investigations.\n",
      "Conducts the AFOSI FIS collection program by directing, coordinating, reviewing and evaluating FIS related counterintelligence activities within AFOSI and coordinating those activities with DoD and national-level agencies.\n",
      "Represents AFOSI as a recognized subject matter expert on the organization, personnel, activities, and capabilities of intelligence entities that pose a FIS threat to the USAF.\n",
      "Establishes and maintains a current series of liaison contacts with DoD and national-level agencies as a recognized authority in the field of counterintelligence.\n",
      "Maintain customer databases and recommend enhancements to build efficiencies in database operations;\n",
      "Fuse multi-modal biometric and forensic data for product generation;\n",
      "Provide all-source and Identity Intelligence support with a global mission set and focus;\n",
      "Utilize I2 tools to organize, analyze, and depict complex multi-source datasets;\n",
      "Apply multi-INT exploitation tradecraft to collect, research, analyze, exploit, and disseminate information of intelligence value;\n",
      "Develop innovative reports and tools;\n",
      "Receive, triage, prioritize and respond to RFIs;\n",
      "Domestic business travel requirement estimated at <10%; and\n",
      "Perform on-call 24/7 reach back support for at least one week per month (Note: special pay provisions apply to this specific duty.)\n"
     ]
    }
   ],
   "source": [
    "for duty in df['job_duty']:\n",
    "    print (duty)\n"
   ]
  },
  {
   "cell_type": "code",
   "execution_count": 33,
   "metadata": {},
   "outputs": [
    {
     "name": "stdout",
     "output_type": "stream",
     "text": [
      "Maintain customer databases and recommend enhancements to build efficiencies in database operations;\n",
      "Fuse multi-modal biometric and forensic data for product generation;\n",
      "Provide all-source and Identity Intelligence support with a global mission set and focus;\n",
      "Utilize I2 tools to organize, analyze, and depict complex multi-source datasets;\n",
      "Apply multi-INT exploitation tradecraft to collect, research, analyze, exploit, and disseminate information of intelligence value;\n",
      "Develop innovative reports and tools;\n",
      "Receive, triage, prioritize and respond to RFIs;\n",
      "Domestic business travel requirement estimated at <10%; and\n",
      "Perform on-call 24/7 reach back support for at least one week per month (Note: special pay provisions apply to this specific duty.)Manages the AFOSI FIS analysis and production program. prepares FIS related finished intelligence analysis reports, and provides focused FIS related support to counterintelligence and investigations.\n",
      "Conducts the AFOSI FIS collection program by directing, coordinating, reviewing and evaluating FIS related counterintelligence activities within AFOSI and coordinating those activities with DoD and national-level agencies.\n",
      "Represents AFOSI as a recognized subject matter expert on the organization, personnel, activities, and capabilities of intelligence entities that pose a FIS threat to the USAF.\n",
      "Establishes and maintains a current series of liaison contacts with DoD and national-level agencies as a recognized authority in the field of counterintelligence.Collect, review, interpret, evaluate and integrate large volumes of intelligence data from multiple sources pertaining to extensive, interrelated geographical or functional fields.\n",
      "Plan, implement, and maintain databases to store and process technical or operational intelligence in one or more assigned areas.\n",
      "Experience in navigating, querying, and using data from multiple open source and Intelligence Community databases and forums on classified and unclassified systems.\n",
      "Utilize analytical tools and methodologies to fill present intelligence gaps and plan for future gaps.\n",
      "Initiate the collection of intelligence to fill critical gaps, weighing the risks posed by the collection of this information against the need for it.\n",
      "Plan, develop, organize, and conduct special research studies providing comprehensive assessments of broad, exceptionally complex, or highly sensitive issues within the assigned area.\n",
      "Develop methods of evaluating the validity, accuracy, and reliability of a broad array and high volume of information, for translation into intelligence relevant to the organization.\n",
      "Analyze the significance and policy implications of issues in the assigned areas.\n",
      "Initiate contact with personnel stationed overseas, other intelligence analysts, and experts in specialty fields to validate and ascertain reliability of information.\n",
      "Analyze intelligence reports and data to make recommendations which inform the development of agency programs.\n",
      "Develop strategies for major areas of uncertainty in domestic and international political, social, or economic policies, trends, or situations that had potentially significant repercussions to the agency, to the United States, or internationally.\n",
      "Provide interpretation of intelligence analyses and draft critical intelligence assessments.\n",
      "Apprise policy and intelligence officials at all levels, within and outside the organization, on emerging issues by preparing intelligence reports and presenting oral briefings.\n",
      "Assist in developing the organization’s position on controversial or disputed issues.\n",
      "Write for various publications on behalf of the organization.\n",
      "Respond to requests for information from a wide variety of sources.\n",
      "Serve as technical expert, independently developing and maintaining critical relationships with various stakeholders in the government, private industry, and academia to further USAID’s intelligence research, operations, and development efforts.\n",
      "Create processes by which the organization pursues collaborative arrangements and relationships with the Intelligence Community and intelligence proponents.\n",
      "Conceive, develop, and implement outreach strategies designed to reach and engage intelligence entities.\n",
      "Provide advice and assistance on developing policies and procedures for the organization’s liaison activities.Support the analysis of open source intelligence (OSINT). Consult on how to leverage OSINT data and information, use specialized OSINT tools and services, and consult on the development of OSINT products. Support the development of new OSINT targeting and exploitation techniques and broadly apply knowledge to analyze the development of OSINT policy and tradecraft. Critical decisions are made every single day within the intelligence community . What if you could use your analytical skills to help them make informed decisions? With all the information available today, it takes a skilled analyst to know how to find and interpret the best data to give their clients the right answers. As an intelligence analyst, you use your specialized regional/functional experience and your attention to detail to develop analytic assessments to give your client the actionable intelligence and context they need. If you have strong analytical skills and a problem solving mindset, we have an opportunity to use those skills to protect our national security against threat actors as well as inform our nations’ leaders. \n",
      "\n",
      "As an intelligence analyst on our team, you’ll help your client understand overall threats. Using your comprehensive understanding of various collection platforms, you’ll explore new data sources, craft effective queries, and combine information from disparate sources, including SIGINT, GEOINT, OSINT, and open source. You’ll validate information and develop client tradecraft as you help build assessments for US IC-wide products and senior policy makers. As the authority on your threat target set, your client will look to you for time critical recommendations, often under pressure. This is a chance to grow your expertise and broaden your skillset. You’ll share your expertise with other analysts through leadership and mentoring. We focus on growing as a team to deliver the best support to our customers, so you’ll have resources to learn new skills and tools. Join us as we provide the right information at the right time to support the critical needs of our nation’s leaders. The Office of Military Commissions (OMC) and Office of the Chief Prosecutor (OCP) require analytical assistance to support prosecution counsel in all aspects of pre-trial investigation and trial preparation for the Military Commissions convened under the Military Commissions Act of 2009 (including United States v. Al Nashiri and United States v. Khalid Shaikh Mohammad et al.). \n",
      "\n",
      "Analysts supporting the Office of the Chief Prosecutor (OCP) perform detailed research and analysis of information related to assigned cases. Analysts must be willing and able to commit to a multi-year assignment providing analytical and consulting services to the U.S. Government and the prosecution of criminal and capital charges related to terrorism. Analysts work in a team environment under the technical direction of counsel to gather, process, verify, validate, review, and assess information and evidence acquired or developed through investigations, interrogations, interviews, analysis, and discovery; develop leads for further analysis or investigation; conduct research and analysis to support attorney products and strategy; and draft analytical reports. Search, review, segregate and analyze any and all records of interrogations, interviews, statements, and other evidence either provided by or obtained from, e.g.: research or investigation; current and former detainees held by U.S. or coalition forces; investigations conducted outside of the Commissions cases; and discovery\n",
      "Serve on a privileged basis to counsel litigating military commission cases (i.e., maintain, preserve, and protect attorney work product privilege)Perform investigations and analysis of system developmental and acquisition initiatives.\n",
      "Review threat documents and studies and extract data in order to satisfy organizational requirements.\n",
      "Collect and analyze threat information and collect and analyze the operational and technical requirements.\n",
      "Prepare capabilities documentation for Intelligence Cyber systems.\n",
      "Represent the Intelligence Cyber Program and in-process reviews (IPR) and prepare and present briefing materials.\n",
      "Represent the command in reviews of capability development in the fielding of developed Intelligence Cyber capabilities and systems.Responsible for providing investigative support for the Charlottesville Police Department by processing a full range and variety of criminal and general investigative leads and cases from inception to completion in a non-sworn capacity. The Intelligence Analyst will display a high level of initiative, effort, and commitment towards completing assignments efficiently; will demonstrate responsible behavior and attention to detail; and will work well with minimal supervision.\n",
      "Essential Responsibilities and Duties:\n",
      "Independently determines necessary principal and supplemental leads for research and analysis from cases assigned to detectives with limited preliminary information; processes general investigative cases from inception to completion;\n",
      "Provides specific intelligence and investigative lead information to investigators;\n",
      "Researches, records, and uses computerized databases to conduct investigations based on specific requests for information or in response to identifiable events;\n",
      "Identifies persons and suspects based on partial descriptions and conducts detailed background research on the persons through direct computer access or personal contact with systems and organizations to further law enforcement investigations;\n",
      "Analyzes all information found, determines and extracts that which is pertinent to investigative case at hand, and evaluates investigative significance of information and determines subsequent trails to follow;\n",
      "Prepares a detailed synopsis of research findings in final form to represent or supplement official investigative case document results and may be required to prepare graphic aids regarding research findings;\n",
      "Analyzes reports and other information received and identifies additional personnel or agencies to which intelligence and investigative data should be disseminated;\n",
      "Prepares and disseminates reports and relevant information to appropriate information consumers, to assist in furthering intelligence, investigative, enforcement, and prevention activities performed by the department and other agencies;\n",
      "Prepares charts (link analysis, timelines, etc), tables and other illustrative devices for visual presentation of data;\n",
      "Inputs and analyzes phone records using available analysis software systems;\n",
      "Establishes, maintains, and cultivates vital and extensive liaison contacts with a myriad of federal, state, local, private industry, and public resources;\n",
      "Attends intelligence, investigation, and law enforcement sharing meetings;\n",
      "May be called upon to testify in a court of law as to content of information obtained.\n",
      "Performs related duties, including, specifically activities such as: Preparing Photo Lineups, Entering information into various databases, Obtaining post office, telephone company, power company, tax office and other documentary records for assisting investigations, Taking requests from other agencies for general information from our records.Become an intelligence analyst and contribute directly to protecting the nation while serving on this dynamic U.S. Government counter-terrorism program. Learn to leverage numerous U.S. Government analytic tools to review daily threat reporting, perform in-depth research and analysis on threats, and submit formal intelligence reports while adhering to high quality and accuracy standards. Your work will support several facets of U.S. Government counter-terrorism efforts and contribute to the Intelligence Community’s knowledge and prevention of potential threats.The selected candidate will be responsible for supporting executive level officials with drafting reports, editing high-level reports, and writing short and succinct papers in support of the customer. The All-Source analyst will assist team members with formatting and publishing daily publications. The Criminal Investigative Specialist is responsible for building reports (leads) to determine the legal status of visitors and students who entered the country on a specific visa. The function of our mission-critical support contract provides investigative analytical support, data entry, law enforcement database research, communications guidance, and technical support services.\n",
      "Daily responsibilities of the Intelligence Analyst Associate include researching over 22 government and open source (OSINT) databases to determine status violations and lead viability. Information gathered is transferred into a template and the subject is deemed viable or non-viable. This builds the case for the field agent to conduct a “knock and talk” or an arrest and potential removal of the given subject from the United States.AIS is looking for a full time CDE expert to support the JS J7 and the Joint Targeting School. The purpose of the JTS is to provide doctrinally-based joint targeting education and training in order to prepare Service, Interagency, and Allied personnel for operational-level targeting duties. The JTS is a Joint Functional School that falls within the Joint Education and Doctrine Directorate of the J7, Joint Force Development of the Joint Staff\n",
      "\n",
      "The proposed SME requires expert knowledge and understanding of collateral damage methodology, precedent, procedures, and regulations issued by the DOD, JS, and the JS J7. Expert knowledge on the concepts, principles, practices, laws and regulations that apply to collateral damage estimation analysis to support acquisition and development of courseware and services.Supply Chain Risk Management (SCRM) involves the research, analysis, and production of all-source intelligence products in response to DoD’s acquisition community requests for information on supply chain threats. SCRM Threat Analyst Center (TAC) personnel will primarily develop specific assessments of threats to the supply chain of DoD suppliers, contractors, and subcontractors. Such analysis would be greatly enhanced by having access to strategic-level analysis of Foreign Intelligence Entities (FIEs).The candidate selected will support a federal law enforcement customer by developing and supporting processes to identify, collect, define, aggregate, conceptualize, and prioritize strategic and near-term requirements within the organizations mission.\n",
      "The selected person will be responsible for preparing parts of complex studies or reports which include all aspects of their specifically-defined geographic or functional areas. The person will be responsible for evaluation and interpretation of their findings and also be tasked with:\n",
      "Applying and modifying established intelligence practices to specific problems\n",
      "Providing basic-descriptive and intelligence reports to field collectors within their AOR\n",
      "Evaluating incoming reports\n",
      "Providing specialized intelligence and threat analysis and production support\n",
      "Presenting findings/briefings to key personnel\n",
      "Developing information and technical support documents and other related documentsWork a rotating shift schedule (typically 7am to 7pm or 7pm to 7am and is subject to change at any time by the customer), alternating days and nights each month which will include weekends and holidays.\n",
      "Input data accurately, timely exploit FMV collected by sensors on ISR platforms, apply HUMINT and SIGINT information to FMV imagery analysis, and use an electronic light table to exploit NTM imagery in softcopy.\n",
      "Produce imagery-derived graphic products and reports and publish for distribution.\n",
      "Compile intelligence materials for use in briefings to high-level government personnel.Conduct research on explosives permit checks and analyze information for validity.\n",
      "Provide analysis (reviewing transactions marked for processing, processing work identified within a transaction, and providing follow-up action as needed), on NICS transactions as required by the NICS.\n",
      "Conduct research and analysis on two existing Delay Queue transactions per hour in accordance with Standard Operating Procedures (SOP).\n",
      "Conduct verification on specific Originating Agency Identifiers and correct/update corresponding contact and agency information as needed.\n",
      "Compose proper transaction research comments.\n",
      "Contact agencies as needed. Document any contact-related issues to include agency, method of contact, and description of issue – these need to be supplied to the NICS Section’s Business Advocate Team (BAT).\n",
      "Provide updated or any new contact information received while in correspondence with any agency to the BAT.\n",
      "Process incoming appeal requests via the NICS, assisting with providing first day responses.\n",
      "Validate submitted appeal disposition documentation for accuracy.\n",
      "Evaluate, continuously, existing procedures, processes, techniques, models, and/or systems related to the work being processed and provide recommended actions or solutions.\n",
      "Assist the NICS Section with composing and maintaining adequate documentation of all work as required under the current Standard Operating Procedures (SOP) within the NICS Section.\n",
      "Complete necessary document clean-up of existing records to update and/or purge documentation as needed.\n",
      "Maintain proper control of their individually assigned Brady Identification Numbers.\n",
      "Will be responsible for the accuracy of all work completed and held accountable to the standards set forth in the NICS Section SOPs. Work will be monitored by existing NICS Assessment Unit personnel and reviewed in accordance to the quality standards set within the NICS Section.Work involves providing current intelligence counterterrorism support to the intel, military and law enforcement communities. Customers are analysts and operators. IntelCenter does not provide policy support or work in any aspect of the political arena. Four core areas of work within the terrorist to rebel group spectrum are targeting, tactics, operational aspects and messaging (including videos and threat statements). Analysts work directly with operator and analytical communities at intelligence agencies, military and law enforcement in more than 30 countries. Analyst responsibilities are specific to assigned accounts which are geographic, group or specialty focused. Analysts typically have accounts in all three categories. Watch Officer responsibilities require an awareness of activity worldwide and the significance of developments even outside of assigned accounts. Work is focused on impact. For example an analytical product with the complexity equivalent of 1+1 that assists in a takedown or interdiction is valued over a doctoral thesis that has little to no relevance to operational activity or current threat assessments. We stress impact, not an academic approach.As a Political Analyst for the CIA, you will support policymakers by producing and delivering written and oral assessments of the domestic politics, foreign policy, stability, and social issues of foreign governments and entities. Your analysis will examine these actors' goals and motivations, culture, values, history, society, decision making processes, and ideologies in the context of how those elements affect US interests and national security.The mission of the Federal Bureau of Investigation's (FBI) Counterterrorism Division's (CTD) Foreign Terrorist Tracking Task Force (FTTTF) is to provide information that helps keep both individuals and their supporters who may pose threats to national security out of the U.S. or leads to their removal, detention, prosecution, or other legal action. The FTTTF supports FBI field operations by conducting bulk and targeted data analyses. Duties and responsibilities include: - Selects, abstracts, or excerpts data from specific sources and compiles them; - Evaluates and makes preliminary analyses of raw intelligence data in items of such factors as adequacy of detail and coverage - Maintains files of raw or abstracted data - Provides services that seek, capture, consolidate, and synthesize locally relevant data to create and maintain baseline domain awareness for the FBI's area of responsibility, including observed and potential threat components, indicators, vulnerabilities, and domain intelligence gaps - Develops and maintains source identification products - Receives and analyzes information assessing office collection capabilities against the FBI's priority criminal and national security threats, indicators and/or gapsSupporting the cycle of collection, processing, analysis, production, and/or dissemination of intelligence information in accordance with the National Intelligence Priorities Framework.\n",
      "Working alongside government analysts within an integrated team to conceptualize and draft intelligence reports and other products for use by more senior intelligence officers.\n",
      "Collaborating with mission partners to facilitate information exchange and help to better synchronize and align intelligence efforts among agencies and levels of government.\n",
      "Contributing to the cutting-edge of new intelligence interests like critical infrastructure and cyber interdependencies; the dark web; open source document and social media exploitation, etc.\n",
      "Participating in improvement efforts by researching and helping to apply best practice methodologies that strengthen and enhance the performance of the intelligence process.\n",
      "Developing recommendations to assist the client and allied agencies with efforts to advance intelligence tradecraft, especially as pertains to more effective all-source intelligence fusion.\n",
      "Applying new and advanced tools and techniques to any element of the intelligence cycle to address complex challenges, with an emphasis on big data analytics and data visualization.\n"
     ]
    }
   ],
   "source": [
    "duties =''\n",
    "for duty in df['job_duty']:\n",
    "    duties = duty + duties\n",
    "print (duties)"
   ]
  },
  {
   "cell_type": "code",
   "execution_count": 34,
   "metadata": {},
   "outputs": [],
   "source": [
    "import xlwt        \n",
    "\n",
    "from collections import Counter        \n",
    "\n",
    "from nltk.corpus import stopwords\n",
    "\n",
    "stop = set(stopwords.words('english'))\n",
    "\n",
    "  \n",
    "\n",
    "book = xlwt.Workbook() # create a new excel file\n",
    "\n",
    "sheet_test = book.add_sheet('word_count') # add a new sheet\n",
    "\n",
    "i = 0\n",
    "\n",
    "sheet_test.write(i,0,'word') # write the header of the first column\n",
    "\n",
    "sheet_test.write(i,1,'count') # write the header of the second column\n",
    "\n",
    "sheet_test.write(i,2,'ratio') # write the header of the third column"
   ]
  },
  {
   "cell_type": "code",
   "execution_count": 35,
   "metadata": {},
   "outputs": [],
   "source": [
    "word_list = [i for i in duties.lower().split() if i not in stop]\n",
    "\n",
    "word_total = word_list.__len__()\n",
    "\n",
    "\n",
    "\n",
    "count_result =  Counter(word_list)\n",
    "\n",
    "for result in count_result.most_common(20):\n",
    "\n",
    "    i = i+1 \n",
    "\n",
    "    sheet_test.write(i,0,result[0])\n",
    "\n",
    "    sheet_test.write(i,1,result[1])\n",
    "\n",
    "    sheet_test.write(i,2,(result[1]/word_total))\n",
    "\n",
    "    \n",
    "\n",
    "book.save('duties.xls')# define the location of your excel file"
   ]
  },
  {
   "cell_type": "markdown",
   "metadata": {},
   "source": [
    "#### Job Duties:\n"
   ]
  },
  {
   "cell_type": "markdown",
   "metadata": {},
   "source": [
    "<img src = \"JobDuties.PNG\">"
   ]
  },
  {
   "cell_type": "markdown",
   "metadata": {},
   "source": [
    "For common job duties, we created a word cloud of the top ten most common duties.  Logically, the top ones were intelligence, information, and analysis.  Before creating this word cloud, however, we had to clean the data of any stop words.  In order to do this we had to use the natural language toolkit and set the stop words to English."
   ]
  },
  {
   "cell_type": "markdown",
   "metadata": {},
   "source": [
    "#### 2.9 Common Skills"
   ]
  },
  {
   "cell_type": "code",
   "execution_count": 36,
   "metadata": {},
   "outputs": [
    {
     "name": "stdout",
     "output_type": "stream",
     "text": [
      "At least 4 years of experience providing biometrics/identity intelligence data fusion support on behalf of the U.S. Government;\n",
      "Demonstrated creative ability to resolve problems and meet client/stakeholder expectations in a timely fashion;\n",
      "Proficiency in PC skills and ability to learn new software and systems is desired;\n",
      "Strong problem-solving aptitude is desired;\n",
      "Demonstrated ability to take responsibility for all aspects of job assignments; and\n",
      "Ability to effectively communicate and interact with technical staff at all levels in a team-based environment is required.\n",
      "At least 4 years of experience providing biometrics/identity intelligence data fusion support on behalf of the U.S. Government;\n",
      "Demonstrated creative ability to resolve problems and meet client/stakeholder expectations in a timely fashion;\n",
      "Proficiency in PC skills and ability to learn new software and systems is desired;\n",
      "Strong problem-solving aptitude is desired;\n",
      "Demonstrated ability to take responsibility for all aspects of job assignments; and\n",
      "Ability to effectively communicate and interact with technical staff at all levels in a team-based environment is required.\n",
      "At least 4 years of experience providing biometrics/identity intelligence data fusion support on behalf of the U.S. Government;\n",
      "Demonstrated creative ability to resolve problems and meet client/stakeholder expectations in a timely fashion;\n",
      "Proficiency in PC skills and ability to learn new software and systems is desired;\n",
      "Strong problem-solving aptitude is desired;\n",
      "Demonstrated ability to take responsibility for all aspects of job assignments; and\n",
      "Ability to effectively communicate and interact with technical staff at all levels in a team-based environment is required.\n",
      "At least 4 years of experience providing biometrics/identity intelligence data fusion support on behalf of the U.S. Government;\n",
      "Demonstrated creative ability to resolve problems and meet client/stakeholder expectations in a timely fashion;\n",
      "Proficiency in PC skills and ability to learn new software and systems is desired;\n",
      "Strong problem-solving aptitude is desired;\n",
      "Demonstrated ability to take responsibility for all aspects of job assignments; and\n",
      "Ability to effectively communicate and interact with technical staff at all levels in a team-based environment is required.\n",
      "At least 4 years of experience providing biometrics/identity intelligence data fusion support on behalf of the U.S. Government;\n",
      "Demonstrated creative ability to resolve problems and meet client/stakeholder expectations in a timely fashion;\n",
      "Proficiency in PC skills and ability to learn new software and systems is desired;\n",
      "Strong problem-solving aptitude is desired;\n",
      "Demonstrated ability to take responsibility for all aspects of job assignments; and\n",
      "Ability to effectively communicate and interact with technical staff at all levels in a team-based environment is required.\n",
      "At least 4 years of experience providing biometrics/identity intelligence data fusion support on behalf of the U.S. Government;\n",
      "Demonstrated creative ability to resolve problems and meet client/stakeholder expectations in a timely fashion;\n",
      "Proficiency in PC skills and ability to learn new software and systems is desired;\n",
      "Strong problem-solving aptitude is desired;\n",
      "Demonstrated ability to take responsibility for all aspects of job assignments; and\n",
      "Ability to effectively communicate and interact with technical staff at all levels in a team-based environment is required.\n",
      "At least 4 years of experience providing biometrics/identity intelligence data fusion support on behalf of the U.S. Government;\n",
      "Demonstrated creative ability to resolve problems and meet client/stakeholder expectations in a timely fashion;\n",
      "Proficiency in PC skills and ability to learn new software and systems is desired;\n",
      "Strong problem-solving aptitude is desired;\n",
      "Demonstrated ability to take responsibility for all aspects of job assignments; and\n",
      "Ability to effectively communicate and interact with technical staff at all levels in a team-based environment is required.\n",
      "At least 4 years of experience providing biometrics/identity intelligence data fusion support on behalf of the U.S. Government;\n",
      "Demonstrated creative ability to resolve problems and meet client/stakeholder expectations in a timely fashion;\n",
      "Proficiency in PC skills and ability to learn new software and systems is desired;\n",
      "Strong problem-solving aptitude is desired;\n",
      "Demonstrated ability to take responsibility for all aspects of job assignments; and\n",
      "Ability to effectively communicate and interact with technical staff at all levels in a team-based environment is required.\n",
      "At least 4 years of experience providing biometrics/identity intelligence data fusion support on behalf of the U.S. Government;\n",
      "Demonstrated creative ability to resolve problems and meet client/stakeholder expectations in a timely fashion;\n",
      "Proficiency in PC skills and ability to learn new software and systems is desired;\n",
      "Strong problem-solving aptitude is desired;\n",
      "Demonstrated ability to take responsibility for all aspects of job assignments; and\n",
      "Ability to effectively communicate and interact with technical staff at all levels in a team-based environment is required.\n",
      "At least 4 years of experience providing biometrics/identity intelligence data fusion support on behalf of the U.S. Government;\n",
      "Demonstrated creative ability to resolve problems and meet client/stakeholder expectations in a timely fashion;\n",
      "Proficiency in PC skills and ability to learn new software and systems is desired;\n",
      "Strong problem-solving aptitude is desired;\n",
      "Demonstrated ability to take responsibility for all aspects of job assignments; and\n",
      "Ability to effectively communicate and interact with technical staff at all levels in a team-based environment is required.\n",
      "At least 4 years of experience providing biometrics/identity intelligence data fusion support on behalf of the U.S. Government;\n",
      "Demonstrated creative ability to resolve problems and meet client/stakeholder expectations in a timely fashion;\n",
      "Proficiency in PC skills and ability to learn new software and systems is desired;\n",
      "Strong problem-solving aptitude is desired;\n",
      "Demonstrated ability to take responsibility for all aspects of job assignments; and\n",
      "Ability to effectively communicate and interact with technical staff at all levels in a team-based environment is required.\n",
      "At least 4 years of experience providing biometrics/identity intelligence data fusion support on behalf of the U.S. Government;\n",
      "Demonstrated creative ability to resolve problems and meet client/stakeholder expectations in a timely fashion;\n",
      "Proficiency in PC skills and ability to learn new software and systems is desired;\n",
      "Strong problem-solving aptitude is desired;\n",
      "Demonstrated ability to take responsibility for all aspects of job assignments; and\n",
      "Ability to effectively communicate and interact with technical staff at all levels in a team-based environment is required.\n",
      "At least 4 years of experience providing biometrics/identity intelligence data fusion support on behalf of the U.S. Government;\n",
      "Demonstrated creative ability to resolve problems and meet client/stakeholder expectations in a timely fashion;\n",
      "Proficiency in PC skills and ability to learn new software and systems is desired;\n",
      "Strong problem-solving aptitude is desired;\n",
      "Demonstrated ability to take responsibility for all aspects of job assignments; and\n",
      "Ability to effectively communicate and interact with technical staff at all levels in a team-based environment is required.\n",
      "At least 4 years of experience providing biometrics/identity intelligence data fusion support on behalf of the U.S. Government;\n",
      "Demonstrated creative ability to resolve problems and meet client/stakeholder expectations in a timely fashion;\n",
      "Proficiency in PC skills and ability to learn new software and systems is desired;\n",
      "Strong problem-solving aptitude is desired;\n",
      "Demonstrated ability to take responsibility for all aspects of job assignments; and\n",
      "Ability to effectively communicate and interact with technical staff at all levels in a team-based environment is required.\n",
      "At least 4 years of experience providing biometrics/identity intelligence data fusion support on behalf of the U.S. Government;\n",
      "Demonstrated creative ability to resolve problems and meet client/stakeholder expectations in a timely fashion;\n",
      "Proficiency in PC skills and ability to learn new software and systems is desired;\n",
      "Strong problem-solving aptitude is desired;\n",
      "Demonstrated ability to take responsibility for all aspects of job assignments; and\n",
      "Ability to effectively communicate and interact with technical staff at all levels in a team-based environment is required.\n",
      "At least 4 years of experience providing biometrics/identity intelligence data fusion support on behalf of the U.S. Government;\n",
      "Demonstrated creative ability to resolve problems and meet client/stakeholder expectations in a timely fashion;\n",
      "Proficiency in PC skills and ability to learn new software and systems is desired;\n",
      "Strong problem-solving aptitude is desired;\n",
      "Demonstrated ability to take responsibility for all aspects of job assignments; and\n",
      "Ability to effectively communicate and interact with technical staff at all levels in a team-based environment is required.\n",
      "At least 4 years of experience providing biometrics/identity intelligence data fusion support on behalf of the U.S. Government;\n",
      "Demonstrated creative ability to resolve problems and meet client/stakeholder expectations in a timely fashion;\n",
      "Proficiency in PC skills and ability to learn new software and systems is desired;\n",
      "Strong problem-solving aptitude is desired;\n",
      "Demonstrated ability to take responsibility for all aspects of job assignments; and\n",
      "Ability to effectively communicate and interact with technical staff at all levels in a team-based environment is required.\n",
      "At least 4 years of experience providing biometrics/identity intelligence data fusion support on behalf of the U.S. Government;\n",
      "Demonstrated creative ability to resolve problems and meet client/stakeholder expectations in a timely fashion;\n",
      "Proficiency in PC skills and ability to learn new software and systems is desired;\n",
      "Strong problem-solving aptitude is desired;\n",
      "Demonstrated ability to take responsibility for all aspects of job assignments; and\n",
      "Ability to effectively communicate and interact with technical staff at all levels in a team-based environment is required.\n",
      "At least 4 years of experience providing biometrics/identity intelligence data fusion support on behalf of the U.S. Government;\n",
      "Demonstrated creative ability to resolve problems and meet client/stakeholder expectations in a timely fashion;\n",
      "Proficiency in PC skills and ability to learn new software and systems is desired;\n",
      "Strong problem-solving aptitude is desired;\n",
      "Demonstrated ability to take responsibility for all aspects of job assignments; and\n",
      "Ability to effectively communicate and interact with technical staff at all levels in a team-based environment is required.\n",
      "At least 4 years of experience providing biometrics/identity intelligence data fusion support on behalf of the U.S. Government;\n",
      "Demonstrated creative ability to resolve problems and meet client/stakeholder expectations in a timely fashion;\n",
      "Proficiency in PC skills and ability to learn new software and systems is desired;\n",
      "Strong problem-solving aptitude is desired;\n",
      "Demonstrated ability to take responsibility for all aspects of job assignments; and\n",
      "Ability to effectively communicate and interact with technical staff at all levels in a team-based environment is required.\n"
     ]
    }
   ],
   "source": [
    "for duty in df['required_skills']:\n",
    "    print (skill)"
   ]
  },
  {
   "cell_type": "code",
   "execution_count": 27,
   "metadata": {},
   "outputs": [
    {
     "name": "stdout",
     "output_type": "stream",
     "text": [
      "At least 4 years of experience providing biometrics/identity intelligence data fusion support on behalf of the U.S. Government;\n",
      "Demonstrated creative ability to resolve problems and meet client/stakeholder expectations in a timely fashion;\n",
      "Proficiency in PC skills and ability to learn new software and systems is desired;\n",
      "Strong problem-solving aptitude is desired;\n",
      "Demonstrated ability to take responsibility for all aspects of job assignments; and\n",
      "Ability to effectively communicate and interact with technical staff at all levels in a team-based environment is required.Your resume must reflect the quality level of experience which demonstrates the possession of the knowledge, skills, abilities, and competencies necessary for successful job performance required for this position. Examples of creditable experience include: Knowledge of FIS collections, operations, investigations, and analysis as well as a wide range of concepts governing the DoD counterintelligence mission and the relation of AFOSI's counterintelligence program to the DoD counterintelligence mission and national intelligence objectives. These positions require a basic knowledge and understanding of one or more of the Intelligence Community's (IC) disciplines.\n",
      "\n",
      "\n",
      "\n",
      " Your qualifications will be evaluated on the basis of your level of knowledge, skills, abilities and/or competencies in the following areas:\n",
      "Knowledge of the interplay of geographical, political, military, economic, and industrial forces in various regions of the world as well as intelligence and FIS threat entities, operations, and capabilities that may be directed against USAF, DoD and other US resources.\n",
      "Knowledge of US intelligence community policies, entities, missions, resources, operations, capabilities, databases, and requirements to perform intelligence research planning, operations collection, target analysis, and other intelligence collection related activities.\n",
      "Knowledge of the principles, concepts, and methodologies of intelligence analysis and research to include link analysis and database manipulation.\n",
      "Skill in producing finished intelligence reports and other reports and other products that are responsive to the specific needs of customers to include formulating and conducting original research; collating, organizing, and analyzing information; resolving conflicts, and presenting clear and concise findings.\n",
      "Skill in handling classified data in accordance with established DoD procedures\n",
      "Ability to quickly assimilate disparate data and render knowledgeable and accurate assessments of the implications of such data; to make decisions, estimates, and recommendations under conditions of urgency and pressure based upon mature judgement, experience and recognized professional standing; and to present and argue for a position effectively. Must have a minimum of five years analytical experience with US Government agencies at the GS-09/11/12 level (or equivalent).\n",
      "Must be proficient in utilizing intelligence related automation to support analytical efforts and product development.\n",
      "Strong research skills: Must be able to plan, develop, organize and conduct special research studies providing comprehensive assessments of broad, exceptionally complex, or highly sensitive issues within the assigned area. Develop methods of evaluating the validity, accuracy, and reliability of a broad array and high volume of information, for translation into intelligence relevant to the organization.\n",
      "Strong verbal and written communication skills: Must be capable of articulating thoughts, ideas, and opposing points of view through all forms of communication with both internal and external government agencies to effectively carry out the duties of this position. Must be proficient in crafting all types of correspondence that reach their target audience with clarity and comprehension to include the senior management level. Must be skillful in giving briefs, guidance, and methodologies to a diverse audience.Experience with intelligence community databases\n",
      "Experience with Microsoft Excel\n",
      "Knowledge of economics, internal economics, or international investments\n",
      "Ability to work independently with limited guidance\n",
      "TS/SCI clearance with a polygraph\n",
      "BA or BS degreeExperience in the intelligence community (IC) and threat reporting, including HUMINT and SIGINT\n",
      "Ability to engage with senior clients\n",
      "Active TS/SCI clearance with a polygraph\n",
      "HS diploma or GEDActive Top Secret security clearance with eligibility for Sensitive Compartmented Information (SCI) \n",
      "Bachelor’s Degree and 3+ years of progressive relevant experience or an equivalent combination of education and experience\n",
      "A core knowledge of basic analytical concepts and techniques\n",
      "Ability to use established analytical tools and techniques to generate comprehensive products (e.g., reports, assessments, white papers, link charts, and briefings)In order to qualify, you must meet the experience requirements described below. Experience refers to paid and unpaid experience, including volunteer work done through National Service programs (e.g., Peace Corps, AmeriCorps) and other organizations (e.g., professional; philanthropic; religious; spiritual; community; student; social). You will receive credit for all qualifying experience, including volunteer experience. Your resume must clearly describe your relevant experience. \n",
      "\n",
      "To qualify based on your experience, your resume must describe at least one (1) year of experience which prepared you to do the work in this job. Specialized experience is defined as experience in capability development activities from concept development through acquisition, and preparing capabilities documentation for Intelligence Cyber systems, to include Initial Capabilities Document (ICD), Capabilities Development Document (CDD), Capabilities Production Document (DCO), and similar documents. This definition of specialized experience is typical of work performed at the next lower grade/level in the federal service (GG/GS-12). \n",
      "\n",
      "Progressively responsible experience is that which has included intelligence-related research, analysis, collections and /or operations. This experience should have included intelligence analysis and/or production, intelligence collection and/or operations, counterintelligence, or threat support directly related to the position to be filled.This experience should demonstrate: Knowledge of intelligence processes, cycle and organizations; Knowledge of and/or ability to use research tools such as library holdings, photographs, statistics, graphics and maps; Knowledge of the systems, procedures and methods of analyzing, compiling, reporting and disseminating intelligence data; and/or Knowledge of organization(s) for and methods of collecting and analyzing intelligence data. \n",
      "\n",
      "You will be evaluated on the basis of your level of competency in the following areas: \n",
      "Communications\n",
      "Intelligence Analysis\n",
      "Intelligence Combat Developments (ICD)Graduation from an accredited four-year college or university; OR an equivalent combination of post-secondary education and specialized experience which involves research and analysis of law enforcement investigative data/information such as trend analysis, link analysis, hot spot analysis, and predictive analysis.\n",
      "Qualified applicants will have the ability to efficiently operate computer systems and equipment, including MS Word, Excel, Access, graphics software, visualization tools, and other analytical programs. Knowledge of various sources/methods of obtaining data and techniques used in the analysis of data;\n",
      "Skill and ability in establishing, maintaining, and cultivating reliable and effective interpersonal relationships with a myriad of contacts and sources to ensure that vital information is obtained as effectively, efficiently, and expeditiously as possible;\n",
      "Ability to plan and organize assigned work;\n",
      "Ability to manage changing priorities and handle a variety of assignments; based on a dynamic environment.Detail-oriented with a proficiency for researching, analyzing, and prioritizing information\n",
      "Strong problem-solving, analytic, and written and oral communication skills\n",
      "Strong interpersonal skills and the ability to work well both independently and in a team environment\n",
      "Basic computer skills, including a willingness to manipulate multiple applications and databases\n",
      "Willingness to successfully complete mandatory training courses and periodic quality assurance reviews\n",
      "Ability to work in a dynamic environment, juggling concurrent tasks and meeting daily deadlines\n",
      "Demonstrated knowledge of document and data analysis and experience with synthesizing large amounts of data\n",
      "Relevant exposure (for example: an internship with a government organization) to US foreign policy, national security CT objectives, and the interagency coordination process\n",
      "Professional writing, editing, and sourcing skills are mandatory in order to be successful in the position\n",
      "Ability to apply extensive knowledge of grammar, punctuation, and corporate writing standards in order to edit reports\n",
      "Ability to work with national security classification procedures\n",
      "Ability to handle multiple tasks and adjust to changing priorities as needed\n",
      "Strong attention to details is required\n",
      "Expert level experience working with Microsoft Office products: PowerPoint, Word, & Outlook\n",
      "TS/SCI with Poly is required\n",
      "Bachelor's degree is required\n",
      "Nine plus years of relevant IC experienceMust have an active Secret or Top Secret clearance.\n",
      "Minimum Education/Experience: Bachelor of Arts or Science degree and a minimum of one (1) year of experience in research, intelligence or threat analysis, or an Associate's Degree and four (4) years' experience in intelligence and threat analysis, or a High School diploma with six (6) years' experience in intelligence and threat analysis.\n",
      "\n",
      "The ideal candidate is a strong team player who is a quick learner, asks questions, takes initiative, and produces accurate work.\n",
      "They are proactive, learn and understand the SOPs and complete tasks with no errors.\n",
      "This is a fast-paced environment; successful analysts have excellent time management skills and work well under pressure.Comprehensive knowledge of employment of military forces in the joint environment; in-depth understand of the Joint Targeting Cycle; familiarity with the Targeting community and key participants in Joint Targeting and Joint Planning Process as well as CJCSI 3160.01 (series) No-Strike and Collateral Damage Estimation Methodology.\n",
      "\n",
      "Must be a graduate of the DOD CDE Qualification Course.\n",
      "\n",
      "Experience conducting CDE or managing a CDE program highly desired.\n",
      "\n",
      "Familiarity with Instructional System Design (ISD). Provides, Reviews and augments POI and academic lectures, Practical exercises, Casualty estimation worksheet, Collateral Effects Radii (CER) Reference Tables and the Digital Precision Strike Suite Collateral Damage Estimation (DCIDE) Software with supporting imagery\n",
      "\n",
      "Expert knowledge of and experience of a very broad range of instructional program principles and theories sufficient to advise on or direct complete, major joint targeting training programs in either a staff or line capacity.All personnel shall be highly proficient in using basic computer applications such as Microsoft Office.7 years’ experience in intelligence analysis\n",
      "Bachelor’s degree\n",
      "Critical Thinking\n",
      "Clear and Concise writingUnderstanding the basic intelligence cycle/process\n",
      "During high-tempo operations, can relay and articulate information\n",
      "Can solve routine tasks of limited scope and complexity following standards of procedure\n",
      "Basic working knowledge of the following software: MS Office including MS Word, MS Excel, and Power Point\n",
      "Good analytical writing skills\n",
      "Must be capable of typing 32 WPM without looking at the keyboard.\n",
      "Candidates must possess the ability to accurately discern red, green, blue, and yellow colors on a screen Background in Counter-Terrorism analysis\n",
      "Basic understanding of National level imagery product standards\n",
      "Experience exploiting Full-Motion Video and has a basic understanding of sensor capabilities\n",
      "Experience exploiting national imagery with a basic understanding of imagery analysisActive Secret Clearance. The following career paths and professional backgrounds may contribute to success in this position: customer service, administrative and program support, security, law enforcement, armed guard, telephonic customer support, criminal justice, investigations, military, communications, intelligence, cyber security, and biometrics.\n",
      "Minimum of a high school diploma or equivalent and a minimum of 1 year of analytical experience.\n",
      "Individuals with Federal Firearms Licenses (FFL) or individuals with any immediate family members with a FFL will not be considered.Must have at least two years of related professional experience and bachelor's degree\n",
      "Strong critical thinking and writing skills required\n",
      "Must be driven and passionate about the work and mission\n",
      "Position involves 60+hr weeks on average and analysts are always on-call\n",
      "Must be able to handle massive amounts of information under time pressure\n",
      "Directly involved in the production of alert products, written reports, audio/video products, books, link analysis, wall charts, briefing materials and more\n",
      "Experience with i2's Analyst Notebook, CartoDB, Tableau, Babel Street, OpenIO, facial recognition software and other analytical and visualization software is important\n",
      "Must be able to rate at Intermediate Mid or higher on the ACTFL scale for Arabic. Candidates will be tested on either the ACTFL or ILR scales to determine speaking, listening, reading and writing proficiency levels.\n",
      "Must be a US citizen and eligible for a TS/SCI clearance if needed\n",
      "All work performed at IntelCenter's Operations Center, no remote work available\n",
      "Minimum of 2-year commitment with intent to stay long termBachelor's or master's degree in one of the following fields or related studies:\n",
      "Foreign area studies\n",
      "International Affairs\n",
      "Political Science\n",
      "GPA of at least 3.0 on a 4-point scale (competitive candidates typically have higher GPAs)\n",
      "Strong critical thinking and problem solving skillsBachelor's Degree or equivalent relevant experience is required. TS/SCI w/Poly  Intelligence Analyst 1 responsibilities may include, but are not limited to the following: Selects, abstracts, or excerpts data from specific sources and compiles themActive high level government security clearance\n",
      "BS degree in related field; years of experience may be substituted for educational attainment\n",
      "2+ years of relevant intelligence experience\n"
     ]
    }
   ],
   "source": [
    "skills =''\n",
    "for skill in df['required_skills']:\n",
    "    skills = skill + skills\n",
    "print (skills)"
   ]
  },
  {
   "cell_type": "code",
   "execution_count": 37,
   "metadata": {},
   "outputs": [],
   "source": [
    "import xlwt        \n",
    "\n",
    "from collections import Counter        \n",
    "\n",
    "from nltk.corpus import stopwords\n",
    "\n",
    "stop = set(stopwords.words('english'))\n",
    "\n",
    "  \n",
    "\n",
    "book = xlwt.Workbook() # create a new excel file\n",
    "\n",
    "sheet_test = book.add_sheet('word_count') # add a new sheet\n",
    "\n",
    "i = 0\n",
    "\n",
    "sheet_test.write(i,0,'word') # write the header of the first column\n",
    "\n",
    "sheet_test.write(i,1,'count') # write the header of the second column\n",
    "\n",
    "sheet_test.write(i,2,'ratio') # write the header of the third column"
   ]
  },
  {
   "cell_type": "code",
   "execution_count": 38,
   "metadata": {},
   "outputs": [],
   "source": [
    "word_list = [i for i in skills.lower().split() if i not in stop]\n",
    "\n",
    "word_total = word_list.__len__()\n",
    "\n",
    "\n",
    "\n",
    "count_result =  Counter(word_list)\n",
    "\n",
    "for result in count_result.most_common(20):\n",
    "\n",
    "    i = i+1 \n",
    "\n",
    "    sheet_test.write(i,0,result[0])\n",
    "\n",
    "    sheet_test.write(i,1,result[1])\n",
    "\n",
    "    sheet_test.write(i,2,(result[1]/word_total))\n",
    "\n",
    "    \n",
    "\n",
    "book.save('skills.xls')# define the location of your excel file"
   ]
  },
  {
   "cell_type": "markdown",
   "metadata": {},
   "source": [
    "<img src=\"RequiredSkills.PNG\">"
   ]
  },
  {
   "cell_type": "markdown",
   "metadata": {},
   "source": [
    " We also used a word cloud to display the data from the most common skills.  The most common skills based on this word cloud were intelligence, experience, ability,  and knowledge.  Word clouds were great visualizations to use for both common skills and common duties because they are easy to interpret quickly.  They are simple, yet portray the most common data points in a visually appealing and logical manner."
   ]
  },
  {
   "cell_type": "markdown",
   "metadata": {},
   "source": [
    "### Conclusion:"
   ]
  },
  {
   "cell_type": "markdown",
   "metadata": {},
   "source": [
    "Throughout this project, we noticed several relationships between the variables we analyzed.  For example, the variable “years experience” was strongly correlated to the variable “minimal salary.”  Also, there was a trend found in the locations of the jobs because they were all heavily concentrated in Northern Virginia.  Because this is a qualitative trend and not quantitative, it had to be interpreted by reading the bar graph.  The only locations with more than one post per location were Washington D.C., McLean,  Arlington, and Quantico, which are all located in Northern Virginia. There are many entry job positions available for an aspiring analyst both in the government and working for federal contractors. Most of these entry positions have a low starting salary. Regarding average salary, our data set was largely representative and matched the average salary found in external sources. "
   ]
  },
  {
   "cell_type": "markdown",
   "metadata": {},
   "source": [
    "### Limitations:"
   ]
  },
  {
   "cell_type": "markdown",
   "metadata": {},
   "source": [
    "There were also several limitations throughout this project. When we looked at the 20 most common job duties,  punctuation was not excluded, therefore the words “analysis” and “analysis,” were treated as separate words.  The tool “Regular Expression” could have been used to exclude punctuation to allow these words to be treated as one.  Additionally, when we looked at the 20 most common job duties, the words “provide” and “providing” were categorized as separate words.  In the future, we could use advanced natural language processes, nltk, to convert each words to their root word.  For example, the words “providing,” “provides,” and “provided” would all be converted to the root word “provide.”  An additional limitation was that the line plot for “posted date” did not show the unrecorded months as zero.  This could lead to misinterpretation when reading the plot, because the it makes it look like there were job posts from every month."
   ]
  },
  {
   "cell_type": "code",
   "execution_count": null,
   "metadata": {},
   "outputs": [],
   "source": []
  }
 ],
 "metadata": {
  "kernelspec": {
   "display_name": "Python 3",
   "language": "python",
   "name": "python3"
  },
  "language_info": {
   "codemirror_mode": {
    "name": "ipython",
    "version": 3
   },
   "file_extension": ".py",
   "mimetype": "text/x-python",
   "name": "python",
   "nbconvert_exporter": "python",
   "pygments_lexer": "ipython3",
   "version": "3.7.1"
  }
 },
 "nbformat": 4,
 "nbformat_minor": 2
}
